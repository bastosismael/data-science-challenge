{
 "cells": [
  {
   "cell_type": "markdown",
   "id": "3d831bb9-f845-4687-9fa4-ef3894beb1a0",
   "metadata": {},
   "source": [
    "# Carregamento de Bibliotecas"
   ]
  },
  {
   "cell_type": "code",
   "execution_count": 1,
   "id": "7cf875af-c2f3-4e0a-b6f9-2fb208c28f40",
   "metadata": {},
   "outputs": [],
   "source": [
    "import pandas as pd\n",
    "import re\n",
    "from sklearn import tree\n",
    "from sklearn.tree import DecisionTreeRegressor\n",
    "import numpy as np"
   ]
  },
  {
   "cell_type": "markdown",
   "id": "06ffa669-e52f-43d8-a4c5-303e537fb4fc",
   "metadata": {},
   "source": [
    "No presente projeto, adotou-se o uso da biblioteca **pandas** para a leitura das bases de dados, uma vez que trata-se de uma biblioteca ostensivamente utilizada na comunidade de usuários de Python e que apresenta diversas ferramentas para manipulação e tratamento de conjuntos de ados. Além disso, foi usada a biblioteca **re** para trabalhar com expressões regulares, permitindo realizar buscas eficientes  baseadas em regras específicas  em strings e conjuntos de strings. Outra biblioteca utilizada foi a **sklearn**, tendo sido usada a classe DecisionTreeRegressor para a criação do modelo proposto e a classe tree para gerar diagramas de árvore. A biblioteca **numpy** foi usada por apresentar algumas funções matemáticas simples."
   ]
  },
  {
   "cell_type": "markdown",
   "id": "8b5e77b1-1be6-4a95-832d-76bc6bf51ba6",
   "metadata": {},
   "source": [
    "# Tratamento da Base "
   ]
  },
  {
   "cell_type": "code",
   "execution_count": 2,
   "id": "9d7ade46-7b61-45ac-b923-a0097193f6da",
   "metadata": {},
   "outputs": [],
   "source": [
    "amostra_1 = pd.read_csv(\"./src/datasets/amostra_projeto1.csv\",) \n",
    "amostra_2= pd.read_csv(\"./src/datasets/amostra_projeto_2.csv\",)\n",
    "amostra_3 = pd.read_csv(\"./src/datasets/amostra_projeto_3.csv\")\n",
    "projeto_4 = pd.read_csv(\"./src/datasets/projeto_4.csv\")"
   ]
  },
  {
   "cell_type": "code",
   "execution_count": 3,
   "id": "5b7c6d88-9003-4567-bfc9-31f6c975aa79",
   "metadata": {},
   "outputs": [
    {
     "data": {
      "text/html": [
       "<div>\n",
       "<style scoped>\n",
       "    .dataframe tbody tr th:only-of-type {\n",
       "        vertical-align: middle;\n",
       "    }\n",
       "\n",
       "    .dataframe tbody tr th {\n",
       "        vertical-align: top;\n",
       "    }\n",
       "\n",
       "    .dataframe thead th {\n",
       "        text-align: right;\n",
       "    }\n",
       "</style>\n",
       "<table border=\"1\" class=\"dataframe\">\n",
       "  <thead>\n",
       "    <tr style=\"text-align: right;\">\n",
       "      <th></th>\n",
       "      <th>DADOS</th>\n",
       "      <th>Unnamed: 1</th>\n",
       "      <th>Unnamed: 2</th>\n",
       "      <th>Unnamed: 3</th>\n",
       "      <th>Unnamed: 4</th>\n",
       "      <th>Unnamed: 5</th>\n",
       "      <th>Unnamed: 6</th>\n",
       "      <th>Unnamed: 7</th>\n",
       "      <th>Unnamed: 8</th>\n",
       "      <th>Unnamed: 9</th>\n",
       "      <th>Unnamed: 10</th>\n",
       "      <th>Unnamed: 11</th>\n",
       "      <th>Unnamed: 12</th>\n",
       "      <th>Unnamed: 13</th>\n",
       "    </tr>\n",
       "  </thead>\n",
       "  <tbody>\n",
       "    <tr>\n",
       "      <th>0</th>\n",
       "      <td>Titulo</td>\n",
       "      <td>Projeto 1 - Wa</td>\n",
       "      <td>NaN</td>\n",
       "      <td>NaN</td>\n",
       "      <td>NaN</td>\n",
       "      <td>NaN</td>\n",
       "      <td>NaN</td>\n",
       "      <td>NaN</td>\n",
       "      <td>NaN</td>\n",
       "      <td>NaN</td>\n",
       "      <td>NaN</td>\n",
       "      <td>NaN</td>\n",
       "      <td>NaN</td>\n",
       "      <td>NaN</td>\n",
       "    </tr>\n",
       "    <tr>\n",
       "      <th>1</th>\n",
       "      <td>Tipologia</td>\n",
       "      <td>Térrea</td>\n",
       "      <td>NaN</td>\n",
       "      <td>NaN</td>\n",
       "      <td>NaN</td>\n",
       "      <td>NaN</td>\n",
       "      <td>NaN</td>\n",
       "      <td>NaN</td>\n",
       "      <td>NaN</td>\n",
       "      <td>NaN</td>\n",
       "      <td>NaN</td>\n",
       "      <td>NaN</td>\n",
       "      <td>NaN</td>\n",
       "      <td>NaN</td>\n",
       "    </tr>\n",
       "    <tr>\n",
       "      <th>2</th>\n",
       "      <td>Área Terreno</td>\n",
       "      <td>485,00</td>\n",
       "      <td>NaN</td>\n",
       "      <td>NaN</td>\n",
       "      <td>NaN</td>\n",
       "      <td>NaN</td>\n",
       "      <td>NaN</td>\n",
       "      <td>NaN</td>\n",
       "      <td>NaN</td>\n",
       "      <td>NaN</td>\n",
       "      <td>NaN</td>\n",
       "      <td>NaN</td>\n",
       "      <td>NaN</td>\n",
       "      <td>NaN</td>\n",
       "    </tr>\n",
       "    <tr>\n",
       "      <th>3</th>\n",
       "      <td>Área Construída</td>\n",
       "      <td>246,63</td>\n",
       "      <td>NaN</td>\n",
       "      <td>NaN</td>\n",
       "      <td>NaN</td>\n",
       "      <td>NaN</td>\n",
       "      <td>NaN</td>\n",
       "      <td>NaN</td>\n",
       "      <td>NaN</td>\n",
       "      <td>NaN</td>\n",
       "      <td>NaN</td>\n",
       "      <td>NaN</td>\n",
       "      <td>NaN</td>\n",
       "      <td>NaN</td>\n",
       "    </tr>\n",
       "    <tr>\n",
       "      <th>4</th>\n",
       "      <td>Área Fundação</td>\n",
       "      <td>237,98</td>\n",
       "      <td>NaN</td>\n",
       "      <td>NaN</td>\n",
       "      <td>NaN</td>\n",
       "      <td>NaN</td>\n",
       "      <td>NaN</td>\n",
       "      <td>NaN</td>\n",
       "      <td>NaN</td>\n",
       "      <td>NaN</td>\n",
       "      <td>NaN</td>\n",
       "      <td>NaN</td>\n",
       "      <td>NaN</td>\n",
       "      <td>NaN</td>\n",
       "    </tr>\n",
       "  </tbody>\n",
       "</table>\n",
       "</div>"
      ],
      "text/plain": [
       "             DADOS      Unnamed: 1 Unnamed: 2 Unnamed: 3 Unnamed: 4  \\\n",
       "0           Titulo  Projeto 1 - Wa        NaN        NaN        NaN   \n",
       "1        Tipologia          Térrea        NaN        NaN        NaN   \n",
       "2     Área Terreno          485,00        NaN        NaN        NaN   \n",
       "3  Área Construída          246,63        NaN        NaN        NaN   \n",
       "4    Área Fundação          237,98        NaN        NaN        NaN   \n",
       "\n",
       "  Unnamed: 5 Unnamed: 6 Unnamed: 7 Unnamed: 8 Unnamed: 9 Unnamed: 10  \\\n",
       "0        NaN        NaN        NaN        NaN        NaN         NaN   \n",
       "1        NaN        NaN        NaN        NaN        NaN         NaN   \n",
       "2        NaN        NaN        NaN        NaN        NaN         NaN   \n",
       "3        NaN        NaN        NaN        NaN        NaN         NaN   \n",
       "4        NaN        NaN        NaN        NaN        NaN         NaN   \n",
       "\n",
       "  Unnamed: 11 Unnamed: 12 Unnamed: 13  \n",
       "0         NaN         NaN         NaN  \n",
       "1         NaN         NaN         NaN  \n",
       "2         NaN         NaN         NaN  \n",
       "3         NaN         NaN         NaN  \n",
       "4         NaN         NaN         NaN  "
      ]
     },
     "execution_count": 3,
     "metadata": {},
     "output_type": "execute_result"
    }
   ],
   "source": [
    "amostra_1.head()"
   ]
  },
  {
   "cell_type": "markdown",
   "id": "5d99f730-1d8a-4ae1-aa6d-23aedf164d79",
   "metadata": {},
   "source": [
    "Assim como pode ser visto acima, as tabelas carregadas estão com a  estrutura comprometida, para corrigir isso será feito o tratamento de seu conteúdo para que seja possível dar prosseguimento a análise dos dados. Uma observação importante é que foi feita uma analise prévia e verificado que ambas as bases apresentam estrutura congruente, portanto, em um peimeiro momento irei sempre apresentar apenas uma das bases para evitar que o documento apresente um grande número de tabelas de forma desnecessária. "
   ]
  },
  {
   "cell_type": "code",
   "execution_count": 4,
   "id": "8f2712e1-011d-4e15-82fe-cb5cccc6a5f1",
   "metadata": {},
   "outputs": [],
   "source": [
    "def corrigir_base(df):\n",
    "    dados = df.loc[0:7].iloc[:,0:2]\n",
    "    dados.columns = dados.loc[0]\n",
    "    dados = dados.loc[1:]\n",
    "    dados.iloc[:,1] = [x.replace(',', '.') for x in  dados.iloc[:,1] ]\n",
    "    orc = df.loc[10:]\n",
    "    orc.columns = [i[1] for i in list(orc.loc[10].items())]\n",
    "    orc = orc.loc[12:]\n",
    "    c = [j for j in orc.columns if j == j]\n",
    "    cols_id = [j for j in c if not str.startswith(str(j), \"Pre\")]\n",
    "    precos = [j for sub in [(a + \"_Unitario\", a + \"_Total\") for a in c if str.startswith(a, \"Pre\")] for j in sub]\n",
    "    orc.columns = cols_id + precos\n",
    "    # Transformando colunas de preços e Quantidade\n",
    "    orc['Quantidade'] = [x.replace(',', '.') if x == x  else x for x in  orc['Quantidade'] ]\n",
    "    orc['Quantidade'] = orc['Quantidade'].astype(float)\n",
    "    for c in precos:\n",
    "        orc[c] = [x.replace('R$ ', '') if x == x  else x for x in  orc[c]]\n",
    "        orc[c] = [x.replace('.', '') if x == x  else x for x in  orc[c] ]\n",
    "        orc[c] = [x.replace(',', '.') if x == x  else x for x in  orc[c] ]\n",
    "        orc[c] = orc[c].astype(float)\n",
    "    return (dados, orc)"
   ]
  },
  {
   "cell_type": "markdown",
   "id": "4b994719-d3ed-4572-ab72-c24affee75c0",
   "metadata": {},
   "source": [
    "A função definida acima recebe a base em seu estado bruto e gera duas novas bases, uma com informações gerais do projeto e outra contendo informações acerca do orçamento. Além disso, realiza os seguintes ajustes:\n",
    "- Remove o R\\$ das colunas de preço\n",
    "- Substitui o separador decimal de \",\" para \".\"\n",
    "- Remove o separador de unidades de milhar\n",
    "- Converte todas as colunas numéricas para o tipo Float."
   ]
  },
  {
   "cell_type": "code",
   "execution_count": 5,
   "id": "b48350e7-1f2f-46b1-97fa-700ff122d8c1",
   "metadata": {},
   "outputs": [],
   "source": [
    "d_1, orc_1 = corrigir_base(amostra_1)\n",
    "d_2, orc_2 = corrigir_base(amostra_2)\n",
    "d_3, orc_3 = corrigir_base(amostra_3)"
   ]
  },
  {
   "cell_type": "code",
   "execution_count": 6,
   "id": "b824dd3b-a42b-425c-8c5e-f58dc68f090f",
   "metadata": {},
   "outputs": [
    {
     "data": {
      "text/html": [
       "<div>\n",
       "<style scoped>\n",
       "    .dataframe tbody tr th:only-of-type {\n",
       "        vertical-align: middle;\n",
       "    }\n",
       "\n",
       "    .dataframe tbody tr th {\n",
       "        vertical-align: top;\n",
       "    }\n",
       "\n",
       "    .dataframe thead th {\n",
       "        text-align: right;\n",
       "    }\n",
       "</style>\n",
       "<table border=\"1\" class=\"dataframe\">\n",
       "  <thead>\n",
       "    <tr style=\"text-align: right;\">\n",
       "      <th></th>\n",
       "      <th>Titulo</th>\n",
       "      <th>Projeto 1 - Wa</th>\n",
       "    </tr>\n",
       "  </thead>\n",
       "  <tbody>\n",
       "    <tr>\n",
       "      <th>1</th>\n",
       "      <td>Tipologia</td>\n",
       "      <td>Térrea</td>\n",
       "    </tr>\n",
       "    <tr>\n",
       "      <th>2</th>\n",
       "      <td>Área Terreno</td>\n",
       "      <td>485.00</td>\n",
       "    </tr>\n",
       "    <tr>\n",
       "      <th>3</th>\n",
       "      <td>Área Construída</td>\n",
       "      <td>246.63</td>\n",
       "    </tr>\n",
       "    <tr>\n",
       "      <th>4</th>\n",
       "      <td>Área Fundação</td>\n",
       "      <td>237.98</td>\n",
       "    </tr>\n",
       "    <tr>\n",
       "      <th>5</th>\n",
       "      <td>Área Fachada</td>\n",
       "      <td>597.88</td>\n",
       "    </tr>\n",
       "    <tr>\n",
       "      <th>6</th>\n",
       "      <td>Área Parede</td>\n",
       "      <td>615.86</td>\n",
       "    </tr>\n",
       "    <tr>\n",
       "      <th>7</th>\n",
       "      <td>Qtde BWCs</td>\n",
       "      <td>5.00</td>\n",
       "    </tr>\n",
       "  </tbody>\n",
       "</table>\n",
       "</div>"
      ],
      "text/plain": [
       "0           Titulo Projeto 1 - Wa\n",
       "1        Tipologia         Térrea\n",
       "2     Área Terreno         485.00\n",
       "3  Área Construída         246.63\n",
       "4    Área Fundação         237.98\n",
       "5     Área Fachada         597.88\n",
       "6      Área Parede         615.86\n",
       "7        Qtde BWCs           5.00"
      ]
     },
     "execution_count": 6,
     "metadata": {},
     "output_type": "execute_result"
    }
   ],
   "source": [
    "d_1"
   ]
  },
  {
   "cell_type": "code",
   "execution_count": 7,
   "id": "9c8884da-4fad-4b92-99d3-9b818ef98417",
   "metadata": {},
   "outputs": [
    {
     "data": {
      "text/html": [
       "<div>\n",
       "<style scoped>\n",
       "    .dataframe tbody tr th:only-of-type {\n",
       "        vertical-align: middle;\n",
       "    }\n",
       "\n",
       "    .dataframe tbody tr th {\n",
       "        vertical-align: top;\n",
       "    }\n",
       "\n",
       "    .dataframe thead th {\n",
       "        text-align: right;\n",
       "    }\n",
       "</style>\n",
       "<table border=\"1\" class=\"dataframe\">\n",
       "  <thead>\n",
       "    <tr style=\"text-align: right;\">\n",
       "      <th></th>\n",
       "      <th>Item</th>\n",
       "      <th>Referência</th>\n",
       "      <th>Tipo</th>\n",
       "      <th>Código</th>\n",
       "      <th>Descrição</th>\n",
       "      <th>Unid.</th>\n",
       "      <th>Quantidade</th>\n",
       "      <th>BDI</th>\n",
       "      <th>Preço Material_Unitario</th>\n",
       "      <th>Preço Material_Total</th>\n",
       "      <th>Preço Execução_Unitario</th>\n",
       "      <th>Preço Execução_Total</th>\n",
       "      <th>Preço_Unitario</th>\n",
       "      <th>Preço_Total</th>\n",
       "    </tr>\n",
       "  </thead>\n",
       "  <tbody>\n",
       "    <tr>\n",
       "      <th>12</th>\n",
       "      <td>1.</td>\n",
       "      <td>NaN</td>\n",
       "      <td>NaN</td>\n",
       "      <td>NaN</td>\n",
       "      <td>ETAPAS PRE OBRA</td>\n",
       "      <td>NaN</td>\n",
       "      <td>NaN</td>\n",
       "      <td>0,0%</td>\n",
       "      <td>NaN</td>\n",
       "      <td>NaN</td>\n",
       "      <td>NaN</td>\n",
       "      <td>8086.25</td>\n",
       "      <td>NaN</td>\n",
       "      <td>8086.25</td>\n",
       "    </tr>\n",
       "    <tr>\n",
       "      <th>13</th>\n",
       "      <td>1.1.</td>\n",
       "      <td>NaN</td>\n",
       "      <td>NaN</td>\n",
       "      <td>NaN</td>\n",
       "      <td>SONDAGEM</td>\n",
       "      <td>NaN</td>\n",
       "      <td>NaN</td>\n",
       "      <td>0,0%</td>\n",
       "      <td>NaN</td>\n",
       "      <td>NaN</td>\n",
       "      <td>NaN</td>\n",
       "      <td>3000.00</td>\n",
       "      <td>NaN</td>\n",
       "      <td>3000.00</td>\n",
       "    </tr>\n",
       "    <tr>\n",
       "      <th>14</th>\n",
       "      <td>1.1.1</td>\n",
       "      <td>MKS_COMPOSICOES</td>\n",
       "      <td>COMPOSICAO</td>\n",
       "      <td>CMP_INF-SON</td>\n",
       "      <td>SONDAGEM</td>\n",
       "      <td>VB</td>\n",
       "      <td>1.0</td>\n",
       "      <td>0,0%</td>\n",
       "      <td>NaN</td>\n",
       "      <td>NaN</td>\n",
       "      <td>3000.0</td>\n",
       "      <td>3000.00</td>\n",
       "      <td>3000.0</td>\n",
       "      <td>3000.00</td>\n",
       "    </tr>\n",
       "    <tr>\n",
       "      <th>15</th>\n",
       "      <td>1.2.</td>\n",
       "      <td>NaN</td>\n",
       "      <td>NaN</td>\n",
       "      <td>NaN</td>\n",
       "      <td>LEVANTAMENTO TOPOGRAFICO</td>\n",
       "      <td>NaN</td>\n",
       "      <td>NaN</td>\n",
       "      <td>0,0%</td>\n",
       "      <td>NaN</td>\n",
       "      <td>NaN</td>\n",
       "      <td>NaN</td>\n",
       "      <td>1200.00</td>\n",
       "      <td>NaN</td>\n",
       "      <td>1200.00</td>\n",
       "    </tr>\n",
       "    <tr>\n",
       "      <th>16</th>\n",
       "      <td>1.2.1</td>\n",
       "      <td>MKS_COMPOSICOES</td>\n",
       "      <td>COMPOSICAO</td>\n",
       "      <td>CMP_INF-LVT</td>\n",
       "      <td>LEVANTAMENTO TOPOGRAFICO</td>\n",
       "      <td>VB</td>\n",
       "      <td>1.0</td>\n",
       "      <td>0,0%</td>\n",
       "      <td>NaN</td>\n",
       "      <td>NaN</td>\n",
       "      <td>1200.0</td>\n",
       "      <td>1200.00</td>\n",
       "      <td>1200.0</td>\n",
       "      <td>1200.00</td>\n",
       "    </tr>\n",
       "  </tbody>\n",
       "</table>\n",
       "</div>"
      ],
      "text/plain": [
       "     Item       Referência        Tipo       Código                 Descrição  \\\n",
       "12     1.              NaN         NaN          NaN           ETAPAS PRE OBRA   \n",
       "13   1.1.              NaN         NaN          NaN                  SONDAGEM   \n",
       "14  1.1.1  MKS_COMPOSICOES  COMPOSICAO  CMP_INF-SON                  SONDAGEM   \n",
       "15   1.2.              NaN         NaN          NaN  LEVANTAMENTO TOPOGRAFICO   \n",
       "16  1.2.1  MKS_COMPOSICOES  COMPOSICAO  CMP_INF-LVT  LEVANTAMENTO TOPOGRAFICO   \n",
       "\n",
       "   Unid.  Quantidade   BDI  Preço Material_Unitario  Preço Material_Total  \\\n",
       "12   NaN         NaN  0,0%                      NaN                   NaN   \n",
       "13   NaN         NaN  0,0%                      NaN                   NaN   \n",
       "14    VB         1.0  0,0%                      NaN                   NaN   \n",
       "15   NaN         NaN  0,0%                      NaN                   NaN   \n",
       "16    VB         1.0  0,0%                      NaN                   NaN   \n",
       "\n",
       "    Preço Execução_Unitario  Preço Execução_Total  Preço_Unitario  Preço_Total  \n",
       "12                      NaN               8086.25             NaN      8086.25  \n",
       "13                      NaN               3000.00             NaN      3000.00  \n",
       "14                   3000.0               3000.00          3000.0      3000.00  \n",
       "15                      NaN               1200.00             NaN      1200.00  \n",
       "16                   1200.0               1200.00          1200.0      1200.00  "
      ]
     },
     "execution_count": 7,
     "metadata": {},
     "output_type": "execute_result"
    }
   ],
   "source": [
    "orc_1.head()"
   ]
  },
  {
   "cell_type": "markdown",
   "id": "10ae0c47-22ce-4846-b771-bff1d9bd6cee",
   "metadata": {},
   "source": [
    "Após o tratamento inicial da base, é possível notar que  a estrutura das bases está em um formato mais adequado para futuras análises. "
   ]
  },
  {
   "cell_type": "markdown",
   "id": "be09225f-39a6-4bb8-a17c-69d3fdf2e65b",
   "metadata": {},
   "source": [
    "# Análise Exploratória"
   ]
  },
  {
   "cell_type": "code",
   "execution_count": 8,
   "id": "8da51539-52bf-40a3-9eb8-3d78193c1b17",
   "metadata": {},
   "outputs": [
    {
     "name": "stdout",
     "output_type": "stream",
     "text": [
      "<class 'pandas.core.frame.DataFrame'>\n",
      "RangeIndex: 151 entries, 12 to 162\n",
      "Data columns (total 14 columns):\n",
      " #   Column                   Non-Null Count  Dtype  \n",
      "---  ------                   --------------  -----  \n",
      " 0   Item                     151 non-null    object \n",
      " 1   Referência               92 non-null     object \n",
      " 2   Tipo                     92 non-null     object \n",
      " 3   Código                   92 non-null     object \n",
      " 4   Descrição                151 non-null    object \n",
      " 5   Unid.                    92 non-null     object \n",
      " 6   Quantidade               92 non-null     float64\n",
      " 7   BDI                      151 non-null    object \n",
      " 8   Preço Material_Unitario  72 non-null     float64\n",
      " 9   Preço Material_Total     117 non-null    float64\n",
      " 10  Preço Execução_Unitario  65 non-null     float64\n",
      " 11  Preço Execução_Total     119 non-null    float64\n",
      " 12  Preço_Unitario           92 non-null     float64\n",
      " 13  Preço_Total              151 non-null    float64\n",
      "dtypes: float64(7), object(7)\n",
      "memory usage: 16.6+ KB\n"
     ]
    }
   ],
   "source": [
    "orc_1.info()"
   ]
  },
  {
   "cell_type": "code",
   "execution_count": 9,
   "id": "bef6d8e8-7d3a-45d6-8dd0-8cde9a496332",
   "metadata": {},
   "outputs": [
    {
     "name": "stdout",
     "output_type": "stream",
     "text": [
      "<class 'pandas.core.frame.DataFrame'>\n",
      "RangeIndex: 161 entries, 12 to 172\n",
      "Data columns (total 14 columns):\n",
      " #   Column                   Non-Null Count  Dtype  \n",
      "---  ------                   --------------  -----  \n",
      " 0   Item                     161 non-null    object \n",
      " 1   Referência               98 non-null     object \n",
      " 2   Tipo                     98 non-null     object \n",
      " 3   Código                   98 non-null     object \n",
      " 4   Descrição                161 non-null    object \n",
      " 5   Unid.                    98 non-null     object \n",
      " 6   Quantidade               98 non-null     float64\n",
      " 7   BDI                      161 non-null    object \n",
      " 8   Preço Material_Unitario  78 non-null     float64\n",
      " 9   Preço Material_Total     128 non-null    float64\n",
      " 10  Preço Execução_Unitario  72 non-null     float64\n",
      " 11  Preço Execução_Total     128 non-null    float64\n",
      " 12  Preço_Unitario           98 non-null     float64\n",
      " 13  Preço_Total              161 non-null    float64\n",
      "dtypes: float64(7), object(7)\n",
      "memory usage: 17.7+ KB\n"
     ]
    }
   ],
   "source": [
    "orc_2.info()"
   ]
  },
  {
   "cell_type": "code",
   "execution_count": 10,
   "id": "d861d042-860d-4c80-8e46-48fcd34ca747",
   "metadata": {},
   "outputs": [
    {
     "name": "stdout",
     "output_type": "stream",
     "text": [
      "<class 'pandas.core.frame.DataFrame'>\n",
      "RangeIndex: 156 entries, 12 to 167\n",
      "Data columns (total 14 columns):\n",
      " #   Column                   Non-Null Count  Dtype  \n",
      "---  ------                   --------------  -----  \n",
      " 0   Item                     156 non-null    object \n",
      " 1   Referência               90 non-null     object \n",
      " 2   Tipo                     90 non-null     object \n",
      " 3   Código                   90 non-null     object \n",
      " 4   Descrição                156 non-null    object \n",
      " 5   Unid.                    90 non-null     object \n",
      " 6   Quantidade               90 non-null     float64\n",
      " 7   BDI                      156 non-null    object \n",
      " 8   Preço Material_Unitario  70 non-null     float64\n",
      " 9   Preço Material_Total     122 non-null    float64\n",
      " 10  Preço Execução_Unitario  71 non-null     float64\n",
      " 11  Preço Execução_Total     130 non-null    float64\n",
      " 12  Preço_Unitario           90 non-null     float64\n",
      " 13  Preço_Total              156 non-null    float64\n",
      "dtypes: float64(7), object(7)\n",
      "memory usage: 17.2+ KB\n"
     ]
    }
   ],
   "source": [
    "orc_3.info()"
   ]
  },
  {
   "cell_type": "markdown",
   "id": "313084e7-6c48-4077-9206-e1a494d9ce34",
   "metadata": {},
   "source": [
    "É possível notar que os orçamentos contém quantidades de itens distintos, ou seja, cada projeto é único. Além disso não há informações relevantes faltantes, o que indica solidez das bases utilizadas."
   ]
  },
  {
   "cell_type": "code",
   "execution_count": 11,
   "id": "ea2f7753-aa08-41ff-a943-6764ff8e8b56",
   "metadata": {},
   "outputs": [
    {
     "data": {
      "text/plain": [
       "{' ',\n",
       " 'ALVENARIA DE VEDACAO DE BLOCO CERAMICO 009',\n",
       " 'CONCRETAGEM DE FUNDACAO DE RADIER COM FIBRA DE ACO',\n",
       " 'CONCRETAGEM E DESFORMA - LAJE PRE FABRICADA TRELICADA INCLINADA ATE 2 POR CENTO',\n",
       " 'GUARDA CORPO INOX 110CM',\n",
       " 'PISO LAMINADO; TONALIDADE CLARA; RODAPE EPS BRANCO; REF. DURAFLOOR',\n",
       " 'PORCELANATO EXTERNO; 60X60CM; CINZA CLARO; RETIFICADO; ACETINADO; REF. INCEPA; AREA UMIDA; COM IMPERMEABILIZACAO',\n",
       " 'PORCELANATO MADEIRA NA FACHADA. REF. INCEPA, PP ARBOL CARVALHO, 120X20CM',\n",
       " 'PORCELANATO; 60X60CM; CINZA CLARO; RETIFICADO; ACETINADO; REF. INCEPA; AREA SECA',\n",
       " 'PORCELANATO; 60X60CM; CINZA CLARO; RETIFICADO; ACETINADO; REF. INCEPA; AREA UMIDA; COM IMPERMEABILIZACAO',\n",
       " 'PORTA DE CORRER DE MADEIRA SEMI-OCA; 70X210CM; BRANCA; COM PROTECAO CONTRA UMIDADE',\n",
       " 'PORTA EM ALUMINIO BRANCO UMA FOLHA DE ABRIR - 60 X 60',\n",
       " 'PORTA EM ALUMINIO PRETO E VIDRO UMA FOLHA DE ABRIR - 90 X 214',\n",
       " 'PORTA EXTERNA DE MADEIRA MACICA; 90X210CM; BRANCA; COM FRISOS; COM KIT PUXADOR',\n",
       " 'PORTAO DE PEDESTRE; ABRIR; H2,2M',\n",
       " 'PORTAO DE VEICULO BASCULANTE 4,2M H2,4M',\n",
       " 'PORTOES',\n",
       " 'REVESTIMENTO CERAMICO DE PAREDE; 60X60CM; CINCA CLARO; RETIFICADO; ACETINADO; REF. INCEPA',\n",
       " 'TEXTURA PROJETADA COR CINZA ESCURO',\n",
       " 'TEXTURA PROJETADA COR CINZA MEDIO'}"
      ]
     },
     "execution_count": 11,
     "metadata": {},
     "output_type": "execute_result"
    }
   ],
   "source": [
    "set(orc_2[\"Descrição\"]) - set(orc_3[\"Descrição\"])"
   ]
  },
  {
   "cell_type": "markdown",
   "id": "46239608-1e76-44d4-ba7e-e63f2348fad3",
   "metadata": {},
   "source": [
    "Acima foi realizada a operação de diferença entre os conjuntos de descrição do orçamento do Projeto 2 e do Projeto 3. Os resultados acima indicam os itens que foram postos no orçamento do Projeto 2, mas que não foram colocados no Projeto 3. Isso indica, que, ainda que os projetos sejam da mesma tipologia, existem peculiaridades inerentes a cada projeto. Isso é um indicativo de que, no Projeto 4, não será possível gerar um orçamento preciso, uma vez que não há informaçõs sobre as necessidades específicas do mesmo. "
   ]
  },
  {
   "cell_type": "code",
   "execution_count": 12,
   "id": "145f447e-6d44-4e02-b001-f79c7ab0a379",
   "metadata": {},
   "outputs": [
    {
     "name": "stdout",
     "output_type": "stream",
     "text": [
      "True\n"
     ]
    }
   ],
   "source": [
    "s_itens = [str(i)+\".\" for i in range(1, 20)]\n",
    "orc_1_n1 = orc_1.loc[orc_1[\"Item\"].isin(s_itens)]\n",
    "orc_2_n1 = orc_2.loc[orc_2[\"Item\"].isin(s_itens)]\n",
    "orc_3_n1 = orc_3.loc[orc_3[\"Item\"].isin(s_itens)]\n",
    "print(len(orc_1_n1) == len(orc_2_n1) == len(orc_3_n1))"
   ]
  },
  {
   "attachments": {},
   "cell_type": "markdown",
   "id": "82f98103-1a49-4fba-9bac-040938c62a61",
   "metadata": {},
   "source": [
    "O resultado acima indica que ambos os projetos possuem o mesmo número de etapas de realização, o que sinaliza que, ainda que os projetos apresentem específicidades quanto a execução, em um nível de agregação maior, ambos parecem seguir algum critério pré determinado. Uma observação importante que deve ser feita é que, em niveis de granularidade inferiores, esse resultado não é valido. "
   ]
  },
  {
   "cell_type": "markdown",
   "id": "74243097-da42-4468-9220-141685afdc33",
   "metadata": {},
   "source": [
    "Apesar disso, uma abordagem interessante é tentar identificar custos fixos. Uma vez que esse fator será de grande ajuda para a elaboração do modelo final. "
   ]
  },
  {
   "cell_type": "code",
   "execution_count": 13,
   "id": "a5d2df6a-c810-4d73-a7ca-f7aca163141f",
   "metadata": {},
   "outputs": [
    {
     "data": {
      "text/html": [
       "<div>\n",
       "<style scoped>\n",
       "    .dataframe tbody tr th:only-of-type {\n",
       "        vertical-align: middle;\n",
       "    }\n",
       "\n",
       "    .dataframe tbody tr th {\n",
       "        vertical-align: top;\n",
       "    }\n",
       "\n",
       "    .dataframe thead th {\n",
       "        text-align: right;\n",
       "    }\n",
       "</style>\n",
       "<table border=\"1\" class=\"dataframe\">\n",
       "  <thead>\n",
       "    <tr style=\"text-align: right;\">\n",
       "      <th></th>\n",
       "      <th>Item</th>\n",
       "      <th>Referência</th>\n",
       "      <th>Tipo</th>\n",
       "      <th>Código</th>\n",
       "      <th>Descrição</th>\n",
       "      <th>Unid.</th>\n",
       "      <th>Quantidade</th>\n",
       "      <th>BDI</th>\n",
       "      <th>Preço Material_Unitario</th>\n",
       "      <th>Preço Material_Total</th>\n",
       "      <th>Preço Execução_Unitario</th>\n",
       "      <th>Preço Execução_Total</th>\n",
       "      <th>Preço_Unitario</th>\n",
       "      <th>Preço_Total</th>\n",
       "    </tr>\n",
       "  </thead>\n",
       "  <tbody>\n",
       "    <tr>\n",
       "      <th>0</th>\n",
       "      <td>15.</td>\n",
       "      <td>NaN</td>\n",
       "      <td>NaN</td>\n",
       "      <td>NaN</td>\n",
       "      <td>FINALIZACAO DA OBRA</td>\n",
       "      <td>NaN</td>\n",
       "      <td>NaN</td>\n",
       "      <td>11,6%</td>\n",
       "      <td>NaN</td>\n",
       "      <td>NaN</td>\n",
       "      <td>NaN</td>\n",
       "      <td>1.12</td>\n",
       "      <td>NaN</td>\n",
       "      <td>1.12</td>\n",
       "    </tr>\n",
       "    <tr>\n",
       "      <th>1</th>\n",
       "      <td>16.</td>\n",
       "      <td>NaN</td>\n",
       "      <td>NaN</td>\n",
       "      <td>NaN</td>\n",
       "      <td>FORMALIZACAO DA ENTREGA</td>\n",
       "      <td>NaN</td>\n",
       "      <td>NaN</td>\n",
       "      <td>0,0%</td>\n",
       "      <td>NaN</td>\n",
       "      <td>NaN</td>\n",
       "      <td>NaN</td>\n",
       "      <td>912.85</td>\n",
       "      <td>NaN</td>\n",
       "      <td>912.85</td>\n",
       "    </tr>\n",
       "  </tbody>\n",
       "</table>\n",
       "</div>"
      ],
      "text/plain": [
       "  Item Referência Tipo Código                Descrição Unid.  Quantidade  \\\n",
       "0  15.        NaN  NaN    NaN      FINALIZACAO DA OBRA   NaN         NaN   \n",
       "1  16.        NaN  NaN    NaN  FORMALIZACAO DA ENTREGA   NaN         NaN   \n",
       "\n",
       "     BDI  Preço Material_Unitario  Preço Material_Total  \\\n",
       "0  11,6%                      NaN                   NaN   \n",
       "1   0,0%                      NaN                   NaN   \n",
       "\n",
       "   Preço Execução_Unitario  Preço Execução_Total  Preço_Unitario  Preço_Total  \n",
       "0                      NaN                  1.12             NaN         1.12  \n",
       "1                      NaN                912.85             NaN       912.85  "
      ]
     },
     "execution_count": 13,
     "metadata": {},
     "output_type": "execute_result"
    }
   ],
   "source": [
    "cf = orc_1_n1.merge(orc_2_n1).merge(orc_3_n1)\n",
    "cf"
   ]
  },
  {
   "cell_type": "markdown",
   "id": "739e6a8c-dc56-4881-8ca3-1620a52381d3",
   "metadata": {},
   "source": [
    "Chegamos a conclusão que, baseado na amostra fornecida,  os itens $15$ e $16$ são custos fixos. "
   ]
  },
  {
   "cell_type": "markdown",
   "id": "4c8a9043-7dcd-4cc5-b68e-703d8ed666b1",
   "metadata": {},
   "source": [
    "Um aspecto importante a ser notado é que, apesar dos projetos terem o mesmo número de etapas, isso não significa necessariamente que as etapas serão sempre as mesmas. A seguir será verificada a hipótese das estapas serem as mesmas:"
   ]
  },
  {
   "cell_type": "code",
   "execution_count": 14,
   "id": "a6780db3-219f-4b99-bb46-b899528d807e",
   "metadata": {},
   "outputs": [
    {
     "data": {
      "text/plain": [
       "{' ', 'ETAPAS PRE OBRA'}"
      ]
     },
     "execution_count": 14,
     "metadata": {},
     "output_type": "execute_result"
    }
   ],
   "source": [
    "set(orc_2_n1[\"Descrição\"]) - ( set(orc_1_n1[\"Descrição\"]))  | set(orc_1_n1[\"Descrição\"]) - ( set(orc_2_n1[\"Descrição\"])) "
   ]
  },
  {
   "cell_type": "code",
   "execution_count": 15,
   "id": "b799c537-7ab5-45f0-861d-0520c37d1ecb",
   "metadata": {},
   "outputs": [
    {
     "data": {
      "text/plain": [
       "set()"
      ]
     },
     "execution_count": 15,
     "metadata": {},
     "output_type": "execute_result"
    }
   ],
   "source": [
    "set(orc_3_n1[\"Descrição\"]) - ( set(orc_1_n1[\"Descrição\"]))  | set(orc_1_n1[\"Descrição\"]) - ( set(orc_3_n1[\"Descrição\"])) "
   ]
  },
  {
   "cell_type": "code",
   "execution_count": 16,
   "id": "cef36d34-cff9-485a-9620-c04d11afbd16",
   "metadata": {},
   "outputs": [
    {
     "data": {
      "text/plain": [
       "{' ', 'ETAPAS PRE OBRA'}"
      ]
     },
     "execution_count": 16,
     "metadata": {},
     "output_type": "execute_result"
    }
   ],
   "source": [
    "set(orc_3_n1[\"Descrição\"]) - ( set(orc_2_n1[\"Descrição\"]))  | set(orc_2_n1[\"Descrição\"]) - ( set(orc_3_n1[\"Descrição\"])) "
   ]
  },
  {
   "cell_type": "markdown",
   "id": "97f122ff-fd1c-4a8f-8c46-a1dd4fe8c022",
   "metadata": {},
   "source": [
    "Os resultados acima mostram que as etapas para os três projetos da amostra são as mesmas. No entanto, nota-se a ausência do termo \"ETAPAS PRE OBRA\" na descrição do item 1 do Projeto 2, o que foi assumido como um erro de inserção na hora da criação da base. "
   ]
  },
  {
   "cell_type": "markdown",
   "id": "94541ac3-4663-4514-a998-9f22fddfa343",
   "metadata": {},
   "source": [
    "A partir de agora, será criada uma tabela contendo todas as subetapas comuns à ambos os projetos. A ideia é aplicar essa base no modelo que será definido a seguir. Foi decidido trabalhar com a base no nível menos agregado, diferentemente da etapa de custo fixo. Essa decisão se deve ao fato de que, ao escolher trabalhar em um nível mais agregado, algumas covariáveis seriam perdidas, como por exemplo quantidade."
   ]
  },
  {
   "cell_type": "markdown",
   "id": "2b1dcb32-efa9-4748-98e6-28ce99dadd7b",
   "metadata": {},
   "source": [
    "Assim como testado anteriormente para o caso das etapas de forma agregada. Uma hipótese que será verificada é se os projetos de tipologia Sobrado apresentam alguma subetapa diferente dos de tipologia Térrea. O objetivo principal é tentar traçar elementos que possam apresentar algum padrão para que possamos replicar no Projeto 4. "
   ]
  },
  {
   "cell_type": "markdown",
   "id": "6c8a3ce1-32aa-4881-bb75-e2b21cec0658",
   "metadata": {},
   "source": [
    "Para isso, será feita a redução das bases para que todas contenham as mesmas subetapas. Essa decisão incorrerá na perda de informações, no entanto, no cenário atual parece ser uma decisão parcimoniosa, uma vez que não temos acesso à todos os elementos que devem estar presentes no Projeto 4. "
   ]
  },
  {
   "cell_type": "code",
   "execution_count": 17,
   "id": "f0b4eec7-5436-4718-a0b2-f077a28d18ec",
   "metadata": {},
   "outputs": [],
   "source": [
    "sub_itens_1 = [i for i in orc_1[\"Item\"] if bool(re.findall(r\"\\d+.\\d+.\\d+\", i))]\n",
    "orc_1_sub = orc_1.loc[orc_1[\"Item\"].isin(sub_itens_1)]\n",
    "sub_itens_2 = [i for i in orc_2[\"Item\"] if bool(re.findall(r\"\\d+.\\d+.\\d+\", i))]\n",
    "orc_2_sub = orc_2.loc[orc_2[\"Item\"].isin(sub_itens_2)]\n",
    "sub_itens_3 = [i for i in orc_3[\"Item\"] if bool(re.findall(r\"\\d+.\\d+.\\d+\", i))]\n",
    "orc_3_sub = orc_3.loc[orc_3[\"Item\"].isin(sub_itens_3)]"
   ]
  },
  {
   "cell_type": "markdown",
   "id": "69e528cd-b568-46d1-b83d-b78bf2c8ca12",
   "metadata": {},
   "source": [
    "Para fins de consistência, será feita a verificação se existem elementos que aparecem mais de uma vez."
   ]
  },
  {
   "cell_type": "code",
   "execution_count": 18,
   "id": "dff39e19-682e-45fc-893e-1c4d40ada407",
   "metadata": {},
   "outputs": [
    {
     "data": {
      "text/plain": [
       "False"
      ]
     },
     "execution_count": 18,
     "metadata": {},
     "output_type": "execute_result"
    }
   ],
   "source": [
    "len(list(orc_1_sub[\"Descrição\"])) == len(set(orc_1_sub[\"Descrição\"]))"
   ]
  },
  {
   "cell_type": "code",
   "execution_count": 19,
   "id": "ed0e543b-2829-4868-b954-f795d115398b",
   "metadata": {},
   "outputs": [
    {
     "data": {
      "text/plain": [
       "False"
      ]
     },
     "execution_count": 19,
     "metadata": {},
     "output_type": "execute_result"
    }
   ],
   "source": [
    "len(list(orc_2_sub[\"Descrição\"])) == len(set(orc_2_sub[\"Descrição\"]))"
   ]
  },
  {
   "cell_type": "code",
   "execution_count": 20,
   "id": "1c111030-0fb4-4023-a9be-cf5d7779d1bd",
   "metadata": {},
   "outputs": [
    {
     "data": {
      "text/plain": [
       "False"
      ]
     },
     "execution_count": 20,
     "metadata": {},
     "output_type": "execute_result"
    }
   ],
   "source": [
    "len(list(orc_3_sub[\"Descrição\"])) == len(set(orc_3_sub[\"Descrição\"]))"
   ]
  },
  {
   "cell_type": "code",
   "execution_count": 21,
   "id": "1a2cf98c-af76-4931-943f-13b699a157c1",
   "metadata": {},
   "outputs": [
    {
     "data": {
      "text/plain": [
       "Descrição\n",
       "ESQUADRIA METALICA - JANELA LINHA 32 PRETA COM VIDRO LISO POR METRO QUADRADO    5\n",
       "CALHAS E RUFOS COM PINTURA ELETROSTATICA COR BRANCO                             2\n",
       "TEXTURA PROJETADA COR MARROM CLARO                                              2\n",
       "REVESTIMENTO DE ESCADA DE GRANITO TONALIDADE CLARA                              2\n",
       "RESTANTE REBOCO INTERNO                                                         2\n",
       "Name: count, dtype: int64"
      ]
     },
     "execution_count": 21,
     "metadata": {},
     "output_type": "execute_result"
    }
   ],
   "source": [
    "orc_3_sub[\"Descrição\"].value_counts().head()"
   ]
  },
  {
   "cell_type": "markdown",
   "id": "e9062e6c-42a8-4d06-a576-1a0c853d6322",
   "metadata": {},
   "source": [
    "Como pode ser visto no exemplo acima, o item **ESQUADRIA METALICA - JANELA LINHA 32 PRETA COM VIDRO LISO POR METRO QUADRADO** aparece 5 vezes no Projeto 5.  "
   ]
  },
  {
   "cell_type": "markdown",
   "id": "99107be3-5372-4869-92be-8fb58a4c982b",
   "metadata": {},
   "source": [
    "De maneira geral, em todas as amostras existe pelo menos um elemento que aparece duas vezes, o que acaba por criar inconsitência para o futuro modelo. Para resolver isso, serão criadas novas bases agrupadas pela colunas descrição. Nessa etapa, também foi decidido que algumas colunas da base não serão necessárias. Abaixo são apresentadas as colunas selecionadas "
   ]
  },
  {
   "cell_type": "code",
   "execution_count": 22,
   "id": "d828bcd2-87df-4bb2-b841-8f5c2f6e0913",
   "metadata": {},
   "outputs": [],
   "source": [
    "cols_selecionadas = [\"Quantidade\", \"Preço_Total\"]"
   ]
  },
  {
   "cell_type": "markdown",
   "id": "f2b4fec4-af8c-4b0f-b875-1490866cb65c",
   "metadata": {},
   "source": [
    "Foi decidido manter apenas as colunas de Preço Total e Quantidade. Uma vez que as demais colunas de preço estão correlacionadas com a de Preço_Total e para a criação do modelo precisamos de apenas uma variável resposta, nesse caso, se fossem mantidas as demais colunas de preço, incorreriamos em um modelo sobreajustado. "
   ]
  },
  {
   "cell_type": "code",
   "execution_count": 23,
   "id": "d29de28b-ff14-404c-bcc8-8fc76598fced",
   "metadata": {},
   "outputs": [],
   "source": [
    "orc_1_sub_g = orc_1_sub.groupby([\"Descrição\"])[cols_selecionadas].sum().reset_index()\n",
    "orc_2_sub_g = orc_2_sub.groupby([\"Descrição\"])[cols_selecionadas].sum().reset_index()\n",
    "orc_3_sub_g = orc_3_sub.groupby([\"Descrição\"])[cols_selecionadas].sum().reset_index()"
   ]
  },
  {
   "cell_type": "markdown",
   "id": "d89b6abd-0dae-407f-8027-b495c0eabf4c",
   "metadata": {},
   "source": [
    "Abaixo é apresentada a amostra depois do agrupamento. "
   ]
  },
  {
   "cell_type": "code",
   "execution_count": 24,
   "id": "48c64d7d-d1da-4e6e-a709-be7a04193f26",
   "metadata": {},
   "outputs": [
    {
     "data": {
      "text/html": [
       "<div>\n",
       "<style scoped>\n",
       "    .dataframe tbody tr th:only-of-type {\n",
       "        vertical-align: middle;\n",
       "    }\n",
       "\n",
       "    .dataframe tbody tr th {\n",
       "        vertical-align: top;\n",
       "    }\n",
       "\n",
       "    .dataframe thead th {\n",
       "        text-align: right;\n",
       "    }\n",
       "</style>\n",
       "<table border=\"1\" class=\"dataframe\">\n",
       "  <thead>\n",
       "    <tr style=\"text-align: right;\">\n",
       "      <th></th>\n",
       "      <th>Descrição</th>\n",
       "      <th>Quantidade</th>\n",
       "      <th>Preço_Total</th>\n",
       "    </tr>\n",
       "  </thead>\n",
       "  <tbody>\n",
       "    <tr>\n",
       "      <th>0</th>\n",
       "      <td>ACABAMENTOS ELETRICOS - PADRAO ALTO</td>\n",
       "      <td>247.00</td>\n",
       "      <td>9484.80</td>\n",
       "    </tr>\n",
       "    <tr>\n",
       "      <th>1</th>\n",
       "      <td>ACABAMENTOS HIDROSSANITARIOS NA COZINHA E AREA...</td>\n",
       "      <td>1.00</td>\n",
       "      <td>680.00</td>\n",
       "    </tr>\n",
       "    <tr>\n",
       "      <th>2</th>\n",
       "      <td>ACABAMENTOS HIDROSSANITARIOS NOS BANHEIROS - P...</td>\n",
       "      <td>5.00</td>\n",
       "      <td>26725.00</td>\n",
       "    </tr>\n",
       "    <tr>\n",
       "      <th>3</th>\n",
       "      <td>ALCAPAO METALICO BRANCO 60X60</td>\n",
       "      <td>1.00</td>\n",
       "      <td>150.26</td>\n",
       "    </tr>\n",
       "    <tr>\n",
       "      <th>4</th>\n",
       "      <td>ALVENARIA DE VEDACAO DE BLOCO CERAMICO 009</td>\n",
       "      <td>485.92</td>\n",
       "      <td>95519.63</td>\n",
       "    </tr>\n",
       "    <tr>\n",
       "      <th>...</th>\n",
       "      <td>...</td>\n",
       "      <td>...</td>\n",
       "      <td>...</td>\n",
       "    </tr>\n",
       "    <tr>\n",
       "      <th>68</th>\n",
       "      <td>TAXA RRT</td>\n",
       "      <td>1.00</td>\n",
       "      <td>108.69</td>\n",
       "    </tr>\n",
       "    <tr>\n",
       "      <th>69</th>\n",
       "      <td>TAXA VISTORIA CONCESSIONARIA DE AGUA</td>\n",
       "      <td>1.00</td>\n",
       "      <td>260.00</td>\n",
       "    </tr>\n",
       "    <tr>\n",
       "      <th>70</th>\n",
       "      <td>TEXTURA PROJETADA COR CINZA CLARO</td>\n",
       "      <td>597.88</td>\n",
       "      <td>22099.44</td>\n",
       "    </tr>\n",
       "    <tr>\n",
       "      <th>71</th>\n",
       "      <td>TEXTURA ROLADA PARA MURO - BRANCA</td>\n",
       "      <td>411.87</td>\n",
       "      <td>12371.34</td>\n",
       "    </tr>\n",
       "    <tr>\n",
       "      <th>72</th>\n",
       "      <td>TUBULACAO DE GAS E ABRIGO</td>\n",
       "      <td>2.00</td>\n",
       "      <td>3100.00</td>\n",
       "    </tr>\n",
       "  </tbody>\n",
       "</table>\n",
       "<p>73 rows × 3 columns</p>\n",
       "</div>"
      ],
      "text/plain": [
       "                                            Descrição  Quantidade  Preço_Total\n",
       "0                 ACABAMENTOS ELETRICOS - PADRAO ALTO      247.00      9484.80\n",
       "1   ACABAMENTOS HIDROSSANITARIOS NA COZINHA E AREA...        1.00       680.00\n",
       "2   ACABAMENTOS HIDROSSANITARIOS NOS BANHEIROS - P...        5.00     26725.00\n",
       "3                       ALCAPAO METALICO BRANCO 60X60        1.00       150.26\n",
       "4          ALVENARIA DE VEDACAO DE BLOCO CERAMICO 009      485.92     95519.63\n",
       "..                                                ...         ...          ...\n",
       "68                                           TAXA RRT        1.00       108.69\n",
       "69               TAXA VISTORIA CONCESSIONARIA DE AGUA        1.00       260.00\n",
       "70                  TEXTURA PROJETADA COR CINZA CLARO      597.88     22099.44\n",
       "71                  TEXTURA ROLADA PARA MURO - BRANCA      411.87     12371.34\n",
       "72                          TUBULACAO DE GAS E ABRIGO        2.00      3100.00\n",
       "\n",
       "[73 rows x 3 columns]"
      ]
     },
     "execution_count": 24,
     "metadata": {},
     "output_type": "execute_result"
    }
   ],
   "source": [
    "orc_1_sub_g"
   ]
  },
  {
   "cell_type": "markdown",
   "id": "cb970c36-1df2-4419-bc77-5f66d2da3a61",
   "metadata": {},
   "source": [
    "Não parece haver uma rigorosidade em relação à coluna Item, uma vez que as amostras apresentam o mesmo item se referindo a objetos distintos, nesse sentido optou-se por removê-la, da mesma forma, as colunas Tipo, Código e Referência não parecem agregar valor informativo à base. Assumiu-se que a coluna BDI estava relacionada a despesas indiretas, como a mesma apenas apresenta valor não-nulo para os itens assumidos como custo fixo, optou-se também por removê-la."
   ]
  },
  {
   "cell_type": "markdown",
   "id": "82823c47-f20f-436f-ad09-11df137a0fdd",
   "metadata": {},
   "source": [
    "Uma hipótese inicial que pode ser levantada é a possibilidade de existência de uma estrutura específica para cada tipologia, ou seja, que a estrutura do orçamento seja definida primariamente pela tipologia."
   ]
  },
  {
   "cell_type": "code",
   "execution_count": 25,
   "id": "764c9f3a-fc64-462e-8d83-a27adbca49e7",
   "metadata": {},
   "outputs": [
    {
     "data": {
      "text/plain": [
       "{'CALCADA INTERNA DE CONCREGRAMA',\n",
       " 'CHURRASQUEIRA PRE MOLDADA DE CONCRETO',\n",
       " 'CONCRETAGEM DE FUNDACAO DE RADIER COM FIBRA DE ACO',\n",
       " 'CONCRETAGEM E DESFORMA - VIGA DE BORDO; 20X40CM',\n",
       " 'ESTRUTURA DE TELHADO PARA SOBRADO COM FIBROCIMENTO',\n",
       " 'GUARDA CORPO INOX 110CM',\n",
       " 'PISO LAMINADO; TONALIDADE CLARA; RODAPE EPS BRANCO; REF. DURAFLOOR',\n",
       " 'PORCELANATO MADEIRA NA FACHADA. REF. INCEPA, PP ARBOL CARVALHO, 120X20CM',\n",
       " 'PORCELANATO; 60X60CM; CINZA CLARO; RETIFICADO; ACETINADO; REF. INCEPA; AREA SECA',\n",
       " 'PORCELANATO; 60X60CM; CINZA CLARO; RETIFICADO; ACETINADO; REF. INCEPA; AREA UMIDA; COM IMPERMEABILIZACAO',\n",
       " 'PORTA DE CORRER DE MADEIRA SEMI-OCA; 70X210CM; BRANCA; COM PROTECAO CONTRA UMIDADE',\n",
       " 'PORTA EM ALUMINIO BRANCO UMA FOLHA DE ABRIR - 60 X 60',\n",
       " 'PORTA EM ALUMINIO PRETO E VIDRO UMA FOLHA DE ABRIR - 90 X 214',\n",
       " 'PORTA INTERNA DE MADEIRA SEMI-OCA; 80X210CM; BRANCA',\n",
       " 'PORTAO DE PEDESTRE; ABRIR; H2,2M',\n",
       " 'PORTAO DE VEICULO BASCULANTE 4,2M H2,4M',\n",
       " 'REVESTIMENTO CERAMICO DE PAREDE; 60X60CM; CINCA CLARO; RETIFICADO; ACETINADO; REF. INCEPA',\n",
       " 'REVESTIMENTO DE ESCADA DE GRANITO TONALIDADE CLARA',\n",
       " 'TEXTURA PROJETADA COR CINZA ESCURO',\n",
       " 'TEXTURA PROJETADA COR CINZA MEDIO'}"
      ]
     },
     "execution_count": 25,
     "metadata": {},
     "output_type": "execute_result"
    }
   ],
   "source": [
    "set(orc_2_sub_g[\"Descrição\"]) - set(orc_1_sub_g[\"Descrição\"]) | set(orc_2_sub_g[\"Descrição\"]) - set(orc_1_sub_g[\"Descrição\"]) "
   ]
  },
  {
   "cell_type": "code",
   "execution_count": 26,
   "id": "64cabebb-1aad-4eac-81d8-4eed72ab807f",
   "metadata": {},
   "outputs": [
    {
     "data": {
      "text/plain": [
       "{'ALVENARIA DE VEDACAO DE BLOCO CERAMICO 009',\n",
       " 'ATERRO',\n",
       " 'CALCADA EM DECK DE MADEIRA',\n",
       " 'CALCADA INTERNA DE CONCRETO VASSOURADO',\n",
       " 'CONCRETAGEM DE FUNDACAO DE RADIER COM FIBRA DE ACO',\n",
       " 'CONCRETAGEM DE FUNDACAO DE RADIER COM TELA DE ACO',\n",
       " 'CONCRETAGEM E DESFORMA - LAJE PRE FABRICADA TRELICADA INCLINADA ATE 2 POR CENTO',\n",
       " 'ESQUADRIA METALICA - PORTA JANELA LINHA 32 PRETA COM VIDRO LISO POR METRO QUADRADO',\n",
       " 'GUARDA CORPO INOX 110CM',\n",
       " 'GUARDA CORPO VIDRO ',\n",
       " 'IMPERMEABILIZACAO DE LAJE',\n",
       " 'PEDRA SAO TOME BRANCA 15X15CM NA FACHADA',\n",
       " 'PILAR CIRCULAR EM CONCRETO DIAMETRO 40 CM',\n",
       " 'PISCINA GRANDE H1,60 EM CONCRETO ARMADO IMPERMEABILIZADA COM PASTILHAS SEM EQUIPAMENTOS',\n",
       " 'PISO LAMINADO; TONALIDADE CLARA; RODAPE EPS BRANCO; REF. DURAFLOOR',\n",
       " 'PISO LAMINADO; TONALIDADE ESCURA; RODAPE EPS BRANCO; REF. DURAFLOOR',\n",
       " 'PORCELANATO EXTERNO; 60X60CM; BEGE CLARO; RETIFICADO; ACETINADO; REF. INCEPA',\n",
       " 'PORCELANATO EXTERNO; 60X60CM; CINZA CLARO; RETIFICADO; ACETINADO; REF. INCEPA; AREA UMIDA; COM IMPERMEABILIZACAO',\n",
       " 'PORCELANATO MADEIRA NA FACHADA. REF. INCEPA, PP ARBOL CARVALHO, 120X20CM',\n",
       " 'PORCELANATO; 60X60CM; CINZA CLARO; RETIFICADO; ACETINADO; REF. INCEPA; AREA SECA',\n",
       " 'PORCELANATO; 60X60CM; CINZA CLARO; RETIFICADO; ACETINADO; REF. INCEPA; AREA UMIDA; COM IMPERMEABILIZACAO',\n",
       " 'PORCELANATO; 90X90CM; TEXTURA MARMORE; RETIFICADO; POLIDO; REF. INCEPA; AREA UMIDA; COM IMPERMEABILIZACAO',\n",
       " 'PORTA DE CORRER DE MADEIRA SEMI-OCA; 70X210CM; BRANCA; COM PROTECAO CONTRA UMIDADE',\n",
       " 'PORTA EM ALUMINIO BRANCO UMA FOLHA DE ABRIR - 60 X 60',\n",
       " 'PORTA EM ALUMINIO PRETO E VIDRO UMA FOLHA DE ABRIR - 90 X 214',\n",
       " 'PORTA EXTERNA DE MADEIRA MACICA; 90X210CM; BRANCA; COM FRISOS; COM KIT PUXADOR',\n",
       " 'PORTAO DE PEDESTRE; ABRIR; H2,2M',\n",
       " 'PORTAO DE VEICULO BASCULANTE 4,2M H2,4M',\n",
       " 'PRATELEIRA DE BOX EM GRANITO DE TONALIDADE CLARA',\n",
       " 'REVESTIMENTO CERAMICO DE PAREDE; 60X60CM; CINCA CLARO; RETIFICADO; ACETINADO; REF. INCEPA',\n",
       " 'REVESTIMENTO CERAMICO DE PAREDE; 90X90CM; TEXTURA MARMORE; RETIFICADO; POLIDO; REF. INCEPA',\n",
       " 'TEXTURA PROJETADA COR CINZA ESCURO',\n",
       " 'TEXTURA PROJETADA COR CINZA MEDIO',\n",
       " 'TEXTURA PROJETADA COR MARROM CLARO',\n",
       " 'TEXTURA PROJETADA COR MARROM ESCURO'}"
      ]
     },
     "execution_count": 26,
     "metadata": {},
     "output_type": "execute_result"
    }
   ],
   "source": [
    "set(orc_3_sub[\"Descrição\"]) - set(orc_2_sub[\"Descrição\"]) |  set(orc_2_sub[\"Descrição\"]) - set(orc_3_sub[\"Descrição\"]) "
   ]
  },
  {
   "cell_type": "code",
   "execution_count": 27,
   "id": "7130eff0-2668-40a2-b931-ca14dede7bd6",
   "metadata": {},
   "outputs": [
    {
     "data": {
      "text/plain": [
       "{'ALVENARIA DE VEDACAO DE BLOCO CERAMICO 009',\n",
       " 'CALCADA EM DECK DE MADEIRA',\n",
       " 'CALCADA INTERNA DE CONCREGRAMA',\n",
       " 'CALCADA INTERNA DE CONCRETO DESEMPENADO',\n",
       " 'CHURRASQUEIRA PRE MOLDADA DE CONCRETO',\n",
       " 'CONCRETAGEM E DESFORMA - LAJE PRE FABRICADA TRELICADA INCLINADA ATE 2 POR CENTO',\n",
       " 'CONCRETAGEM E DESFORMA - VIGA DE BORDO; 20X40CM',\n",
       " 'ESTRUTURA DE TELHADO PARA CASA TERREA COM FIBROCIMENTO',\n",
       " 'ESTRUTURA DE TELHADO PARA SOBRADO COM FIBROCIMENTO',\n",
       " 'GUARDA CORPO VIDRO ',\n",
       " 'IMPERMEABILIZACAO DE LAJE',\n",
       " 'JANELA EM ALUMINIO PRETO UMA FOLHA MAXIM-AIR MINI BOREAL 80 X 78',\n",
       " 'MUDA DE IPE',\n",
       " 'MURO DE CONTENCAO DE BLOCO APARENTE; H1,8M',\n",
       " 'PEDRA SAO TOME BRANCA 15X15CM NA FACHADA',\n",
       " 'PILAR CIRCULAR EM CONCRETO DIAMETRO 40 CM',\n",
       " 'PISO LAMINADO; TONALIDADE ESCURA; RODAPE EPS BRANCO; REF. DURAFLOOR',\n",
       " 'PORCELANATO EXTERNO; 60X60CM; BEGE CLARO; RETIFICADO; ACETINADO; REF. INCEPA',\n",
       " 'PORCELANATO EXTERNO; 60X60CM; CINZA CLARO; RETIFICADO; ACETINADO; REF. INCEPA; AREA UMIDA; COM IMPERMEABILIZACAO',\n",
       " 'PORCELANATO; 90X90CM; BEGE CLARO; RETIFICADO; POLIDO; REF. INCEPA; AREA SECA; AREA SECA',\n",
       " 'PORCELANATO; 90X90CM; BEGE CLARO; RETIFICADO; POLIDO; REF. INCEPA; AREA UMIDA; COM IMPERMEABILIZACAO',\n",
       " 'PORCELANATO; 90X90CM; TEXTURA MARMORE; RETIFICADO; POLIDO; REF. INCEPA; AREA UMIDA; COM IMPERMEABILIZACAO',\n",
       " 'PORTA EXTERNA DE MADEIRA MACICA; 90X210CM; BRANCA; COM FRISOS; COM KIT PUXADOR',\n",
       " 'PORTA INTERNA DE MADEIRA SEMI-OCA; 60X210CM; BRANCA; COM PROTECAO CONTRA UMIDADE',\n",
       " 'PORTA INTERNA DE MADEIRA SEMI-OCA; 80X210CM; BRANCA',\n",
       " 'REBOCO EXTERNO',\n",
       " 'REVESTIMENTO CERAMICO DE PAREDE; 90X90CM; BEGE; RETIFICADO; POLIDO; REF. INCEPA',\n",
       " 'REVESTIMENTO CERAMICO DE PAREDE; 90X90CM; TEXTURA MARMORE; RETIFICADO; POLIDO; REF. INCEPA',\n",
       " 'REVESTIMENTO DE ESCADA DE GRANITO TONALIDADE CLARA',\n",
       " 'TEXTURA PROJETADA COR MARROM CLARO',\n",
       " 'TEXTURA PROJETADA COR MARROM ESCURO'}"
      ]
     },
     "execution_count": 27,
     "metadata": {},
     "output_type": "execute_result"
    }
   ],
   "source": [
    "set(orc_3_sub[\"Descrição\"]) - set(orc_1_sub[\"Descrição\"]) |  set(orc_1_sub[\"Descrição\"]) - set(orc_3_sub[\"Descrição\"])  "
   ]
  },
  {
   "cell_type": "markdown",
   "id": "675de26c-241d-461b-a0aa-e29124e58bde",
   "metadata": {},
   "source": [
    "Como pode ser visto acima, não parece haver evidências de que projetos da tipologia sobrado apresentam elementos epecíficos quando comparados ao projeto da tipologia Térrea. É importante ressaltar que essa análise desconsidera todas as demais variáveis que poderiam afetar a presença e ausência de elementos. Apesar disso, devido ao Projeto 4 apresentar tipologia Sobrado, adotou-se as amostras 2 e 3 como referência e o processo de estimação do orçamento para o Projeto 4 se dará da seguinte forma:"
   ]
  },
  {
   "cell_type": "markdown",
   "id": "5366c2c6-1cee-4502-8923-b24a925e9ecc",
   "metadata": {},
   "source": [
    "- $M(X_1, X_2, X_3)$ caso o item analisado esteja presente nas três amostras.\n",
    "- $M(X_2, X_3)$ caso o item analisado esteja presente apenas nas amostras $3$ e $2$.\n",
    "- $M(X_2)$ caso o item analisado esteja presente apenas na amostra $2$.\n",
    "- $M(X_3)$ caso o item analisado esteja presente apenas na amostra $3$."
   ]
  },
  {
   "cell_type": "markdown",
   "id": "eaeec327-3e34-4a50-9d93-9c1021ea5f67",
   "metadata": {},
   "source": [
    "Em que, $M$ é o modelo que será definido na seção seguinte e $X_i, i\\in \\{1,2,3\\}$ representa o conjunto de covariáveis referentes ao elemento analisado do projeto $i$. De forma a simplificada a intuição por trás da regra acima é apresentado no exemplo abaixo: "
   ]
  },
  {
   "cell_type": "markdown",
   "id": "d6ccfc55-0745-467c-814f-fcc720de191f",
   "metadata": {},
   "source": [
    "Tomemos como exemplo o item **CONSUMO DE AGUA DURANTE A OBRA**, esse elemento está presente nos três projetos de amostra, logo a saída da estimativa para o Projeto 4 será dada por:$$M(X_1, X_2, X_3)$$\n",
    "\n",
    "\n",
    "Onde cada $X_i$ representa o vetor definido da seguinte forma: $X_i = (\\text{Tipologia}_i, \\text{Area Terreno}_i, \\text{Area Construída}_i, \\text{Area Fundacao}_i, \\text{Area Fachada}_i, \\text{Area Parede}_i, \\text{Qtde BWCs}_i, \\text{Quantidade}_i), \\forall i \\in \\{1,2,3\\}$ "
   ]
  },
  {
   "cell_type": "markdown",
   "id": "132dc7b1-b9c5-4a61-894b-812012f9e873",
   "metadata": {},
   "source": [
    "Agora tomemos o item **CONCRETAGEM E DESFORMA - VIGA DE BORDO; 20X40CM**, esse elemento está presente nos projetos $2$ e $3$, mas não está presente no projeto $1$, nesse caso a estimativa desse item para o Projeto 4 será dada por:\n",
    "$$M(X_2, X_3)$$\n"
   ]
  },
  {
   "cell_type": "markdown",
   "id": "afa71930-ad99-4e4e-a5ca-c6d6e7d6fc26",
   "metadata": {},
   "source": [
    "De fato, a abordagem proposta acima indica Superestimação do custo, uma vez o conjunto de elementos presentes no orçamento do Projeto 4 será dado por: $$\\left(\\cap_{i=1}^{3}E_i\\right) \\cup (E_2\\cap E_3 \\cap E_1^c) \\cup (E_2 \\cap E_3^c \\cap E_1^c) \\cup (E_3 \\cap E_2^c \\cap E_1^c)$$ \n",
    "\n",
    "Onde $E_i$ representa o número de elementos no orçamento do projeto $i$, com $i \\in \\{1,2,3\\}$ "
   ]
  },
  {
   "cell_type": "markdown",
   "id": "f3d2d88c-6c00-4bb6-8b7e-882f3c8184bb",
   "metadata": {},
   "source": [
    "A partr de agora será feita a criação de cada uma das três bases de acordo com o critério definido acima. "
   ]
  },
  {
   "cell_type": "code",
   "execution_count": 28,
   "id": "3937232f-53b0-4562-a669-cd3c3a11b9a2",
   "metadata": {},
   "outputs": [],
   "source": [
    "inter_1_2_3 = set(orc_1_sub_g[\"Descrição\"]).intersection(set(orc_2_sub_g[\"Descrição\"])).intersection(set(orc_3_sub_g[\"Descrição\"]))\n",
    "inter_2_3_1c = set(orc_2_sub_g[\"Descrição\"]).intersection(set(orc_3_sub_g[\"Descrição\"])) - set(orc_1_sub_g[\"Descrição\"])\n",
    "inter_2_3c_1c = set(orc_2_sub_g[\"Descrição\"]) - set(orc_3_sub_g[\"Descrição\"]) - set(orc_1_sub_g[\"Descrição\"])\n",
    "inter_3_2c_1c = set(orc_3_sub_g[\"Descrição\"]) - set(orc_2_sub_g[\"Descrição\"]) - set(orc_1_sub_g[\"Descrição\"])"
   ]
  },
  {
   "cell_type": "markdown",
   "id": "0d278ae8-37bc-4c2e-8b02-0234b8ff56c4",
   "metadata": {},
   "source": [
    "Agora que já temos os conjuntos criados, será feita uma transformação nas bases contendo informações do projeto, ou seja, nas bases que não são de orçamento. "
   ]
  },
  {
   "cell_type": "markdown",
   "id": "0d11fa1f-10e1-42c8-ad29-85e67c22e9dd",
   "metadata": {},
   "source": [
    "Também será feita a transformação do tipo da coluna Tipologia para numérica, uma vez que o modelo que será definido exige que todas as colunas utilizadas sejam numéricas. Nesse sentido, adotou-se a seguinte definição:"
   ]
  },
  {
   "cell_type": "code",
   "execution_count": 29,
   "id": "7de20e91-4c0f-41b3-9e2c-9ca687b918a2",
   "metadata": {},
   "outputs": [],
   "source": [
    "cat_tipologia = {\n",
    "    \"Térrea\" : 0, \n",
    "    \"Sobrado\" : 1\n",
    "                }"
   ]
  },
  {
   "cell_type": "code",
   "execution_count": 30,
   "id": "dfce0f7a-219d-4382-a3fd-6891c7d3257b",
   "metadata": {},
   "outputs": [],
   "source": [
    "def transform_p(df):\n",
    "    df = df.T.reset_index(drop=True)\n",
    "    df.columns = df.loc[0]\n",
    "    df = df.loc[1:]\n",
    "    df[\"Tipologia\"] = cat_tipologia[df[\"Tipologia\"].iloc[0]]\n",
    "    return df"
   ]
  },
  {
   "cell_type": "code",
   "execution_count": 31,
   "id": "56446786-8b01-428b-95eb-b7f98871d6e4",
   "metadata": {},
   "outputs": [],
   "source": [
    "d_1_t = transform_p(d_1)\n",
    "d_2_t = transform_p(d_2)\n",
    "d_3_t = transform_p(d_3)"
   ]
  },
  {
   "cell_type": "code",
   "execution_count": 32,
   "id": "9d7238a2-bc8e-49d9-8ebd-52aa9a2a6c95",
   "metadata": {},
   "outputs": [
    {
     "data": {
      "text/html": [
       "<div>\n",
       "<style scoped>\n",
       "    .dataframe tbody tr th:only-of-type {\n",
       "        vertical-align: middle;\n",
       "    }\n",
       "\n",
       "    .dataframe tbody tr th {\n",
       "        vertical-align: top;\n",
       "    }\n",
       "\n",
       "    .dataframe thead th {\n",
       "        text-align: right;\n",
       "    }\n",
       "</style>\n",
       "<table border=\"1\" class=\"dataframe\">\n",
       "  <thead>\n",
       "    <tr style=\"text-align: right;\">\n",
       "      <th></th>\n",
       "      <th>Tipologia</th>\n",
       "      <th>Área Terreno</th>\n",
       "      <th>Área Construída</th>\n",
       "      <th>Área Fundação</th>\n",
       "      <th>Área Fachada</th>\n",
       "      <th>Área Parede</th>\n",
       "      <th>Qtde BWCs</th>\n",
       "    </tr>\n",
       "  </thead>\n",
       "  <tbody>\n",
       "    <tr>\n",
       "      <th>1</th>\n",
       "      <td>0</td>\n",
       "      <td>485.00</td>\n",
       "      <td>246.63</td>\n",
       "      <td>237.98</td>\n",
       "      <td>597.88</td>\n",
       "      <td>615.86</td>\n",
       "      <td>5.00</td>\n",
       "    </tr>\n",
       "  </tbody>\n",
       "</table>\n",
       "</div>"
      ],
      "text/plain": [
       "0  Tipologia Área Terreno Área Construída Área Fundação Área Fachada  \\\n",
       "1          0       485.00          246.63        237.98       597.88   \n",
       "\n",
       "0 Área Parede Qtde BWCs  \n",
       "1      615.86      5.00  "
      ]
     },
     "execution_count": 32,
     "metadata": {},
     "output_type": "execute_result"
    }
   ],
   "source": [
    "d_1_t"
   ]
  },
  {
   "cell_type": "markdown",
   "id": "f71e8d89-9d95-4b9a-8e12-ac31ea223227",
   "metadata": {},
   "source": [
    "Como pode ser visto acima, a partir de agora temos as informações do projeto em uma única linha, o que será necessário para a aplicação do modelo final. A seguir será feita a preparação da base para modelagem e em seguida feita a modelagem e apresentação dos resultados. "
   ]
  },
  {
   "cell_type": "code",
   "execution_count": 33,
   "id": "9a4a132a-bdbd-436b-b79c-bfa8e2b2e8e2",
   "metadata": {},
   "outputs": [],
   "source": [
    "df_p_projeto_4_1 = {} # E1∩E2∩E3\n",
    "df_p_projeto_4_2 = {} # E2∩E3∩C(E3)\n",
    "df_p_projeto_4_3 = {} # E2∩C(E3)∩C(E1)\n",
    "df_p_projeto_4_4 = {} # E3∩C(E2)∩C(E1)\n",
    "\n",
    "cols_selecionadas = [\"Quantidade\", \"Preço_Total\"]\n",
    "\n",
    "for i in inter_1_2_3:\n",
    "    orc_1_f = orc_1_sub_g.loc[(orc_1_sub_g[\"Descrição\"] == i)]\n",
    "    orc_2_f = orc_2_sub_g.loc[(orc_2_sub_g[\"Descrição\"] == i)]\n",
    "    orc_3_f = orc_3_sub_g.loc[(orc_3_sub_g[\"Descrição\"] == i)]\n",
    "    \n",
    "    molde_1 = d_1_t.copy()\n",
    "    molde_2 = d_2_t.copy()\n",
    "    molde_3 = d_3_t.copy()\n",
    "    #molde.insert(0, \"Descrição\", orc_2_f[\"Descrição\"].item()) \n",
    "    for c in cols_selecionadas:\n",
    "        if orc_1_f.iloc[0][c] == orc_1_f.iloc[0][c]: # Elimina NaN\n",
    "            molde_1[c] = orc_1_f.iloc[0][c]\n",
    "        if orc_2_f.iloc[0][c] == orc_2_f.iloc[0][c]: \n",
    "            molde_2[c] = orc_2_f.iloc[0][c]\n",
    "        if orc_3_f.iloc[0][c] == orc_3_f.iloc[0][c]: \n",
    "            molde_3[c] = orc_3_f.iloc[0][c]\n",
    "    df_p_projeto_4_1[orc_2_f[\"Descrição\"].item()] = pd.concat([molde_1, molde_2, molde_3])\n",
    "\n",
    "for i in inter_2_3_1c:\n",
    "    orc_2_f = orc_2_sub_g.loc[(orc_2_sub_g[\"Descrição\"] == i)]\n",
    "    orc_3_f = orc_3_sub_g.loc[(orc_3_sub_g[\"Descrição\"] == i)]\n",
    "    \n",
    "    molde_2 = d_2_t.copy()\n",
    "    molde_3 = d_3_t.copy()\n",
    "    #molde.insert(0, \"Descrição\", orc_2_f[\"Descrição\"].item()) \n",
    "    for c in cols_selecionadas:\n",
    "        if orc_2_f.iloc[0][c] == orc_2_f.iloc[0][c]: \n",
    "            molde_2[c] = orc_2_f.iloc[0][c]\n",
    "        if orc_3_f.iloc[0][c] == orc_3_f.iloc[0][c]: \n",
    "            molde_3[c] = orc_3_f.iloc[0][c]\n",
    "    df_p_projeto_4_2[orc_2_f[\"Descrição\"].item()] = pd.concat([molde_2, molde_3])\n",
    "    \n",
    "for i in inter_2_3c_1c:\n",
    "    orc_2_f = orc_2_sub_g.loc[(orc_2_sub_g[\"Descrição\"] == i)]\n",
    "    molde = d_2_t.copy()\n",
    "    #molde.insert(0, \"Descrição\", orc_2_f[\"Descrição\"].item()) \n",
    "    for c in cols_selecionadas:\n",
    "        if orc_2_f.iloc[0][c] == orc_2_f.iloc[0][c]: # Elimina NaN\n",
    "            molde[c] = orc_2_f.iloc[0][c]\n",
    "    df_p_projeto_4_3[orc_2_f[\"Descrição\"].item()] = molde\n",
    "\n",
    "for i in inter_3_2c_1c:\n",
    "    orc_3_f = orc_3_sub_g.loc[(orc_3_sub_g[\"Descrição\"] == i)]\n",
    "    molde = d_3_t.copy()\n",
    "    #molde.insert(0, \"Descrição\", orc_2_f[\"Descrição\"].item()) \n",
    "    for c in cols_selecionadas:\n",
    "        if orc_3_f.iloc[0][c] == orc_3_f.iloc[0][c]: # Elimina NaN\n",
    "            molde[c] = orc_3_f.iloc[0][c]\n",
    "    df_p_projeto_4_4[orc_2_f[\"Descrição\"].item()] = molde"
   ]
  },
  {
   "cell_type": "markdown",
   "id": "b50ef2d6-ce91-4109-9179-8d7a4feecae7",
   "metadata": {},
   "source": [
    "O codigo acima cria 4 conjuntos de dados distintos, a seguir é apresentada uma breve descrição de cada uma delas:"
   ]
  },
  {
   "cell_type": "markdown",
   "id": "046df56e-51d1-46d3-9b82-549dd210193d",
   "metadata": {},
   "source": [
    "- **df_p_projeto_4_1** : Dicionário contendo informações de elementos comuns às 3 bases amostrais. \n",
    "- **df_p_projeto_4_2** : Dicionário contendo informações de elementos comuns às bases dos projetos 2 e 3 que não estão presentes no Projeto 1. \n",
    "- **df_p_projeto_4_3** :  Dicionário contendo informações de elementos presentes na base do projeto 2  que não estão presentes nas bases do Projeto 1 e 3. \n",
    "- **df_p_projeto_4_4** : Dicionário contendo informações de elementos presentes na base do projeto 3  que não estão presentes nas bases do Projeto 1 e 2. "
   ]
  },
  {
   "cell_type": "markdown",
   "id": "362f700d-2a04-4de9-ba4e-873146f0b900",
   "metadata": {},
   "source": [
    "# Modelagem"
   ]
  },
  {
   "cell_type": "markdown",
   "id": "5d9e39b4-19c0-4e70-a5af-be43fdc14621",
   "metadata": {},
   "source": [
    "Uma das limitações evidentes do presente desafio é o fato de estarmos lidando com um problema com amostra de tamanho pequeno, o que acaba limitando a possibilidade de uso de modelos estatísticos. Apesar de limitar, isso não significa que seja impossível, ainda existe a possibilidade de uso de técnicas de reamostragem ou modelos que consigam enfrentar tal problema. Uma possibilidade latente é o uso de algum aproximador universal de função para estabelecer ligação entre os dados e o orçamento, entretanto, como pode ser visto em Shwartz-Ziv e Armon (2022), para dados tabulares, que é exatamente a estrutura na qual estamos trabalhando, o uso de tal aproximação não se mostra efeitva. Ainda em relação ao artigo supracitado, os autores reforçam a ideia de que modelos baseados em árvores são mais indicados para esse tipo de dado, nesse sentido, optou-se por utilizar árvores de regressão. \n"
   ]
  },
  {
   "cell_type": "markdown",
   "id": "ba3e324e-16cb-4f73-b746-e626412b2590",
   "metadata": {},
   "source": [
    "O modelo proposto será definido da seguinte forma:\n",
    "$$ M(X) =  \\begin{cases}\n",
    "X & \\text{se} &|X| = 1\\\\\n",
    "AD(X) & \\text{se} &|X| > 1\\\\             \n",
    "\\end{cases}$$\n",
    "\n",
    "Em que $|X|$ representa o número de elementos no conjunto $X$"
   ]
  },
  {
   "cell_type": "markdown",
   "id": "a64e645f-7843-43dd-8932-89518f87c850",
   "metadata": {},
   "source": [
    "Ou seja, o modelo assume a função identidade caso a base contenha apenas uma linha, isto é, o modelo replica a informação do projeto anterior. Caso contrário é usada uma arvore de decisão para estimar o valor do projeto 4. Ademais, segue que a quantidade do item no projeto 4 será definida como:\n",
    "$$ q_4 =  \\begin{cases}\n",
    "\\dfrac{1}{n}\\sum_{i=1}^{n} q_i & \\text{se}& n \\in \\{1,2,3\\}\\\\          \n",
    "\\end{cases}$$\n",
    "\n",
    "Ou seja, para as bases que tiveram mais de duas linhas, a quantidade do item no projeto 4 será estimada pela média ou simplesmente replicado, caso tenha apenas uma linha. "
   ]
  },
  {
   "cell_type": "markdown",
   "id": "6d53e100-a8c5-4ac6-93f8-9f29d8cf4e3c",
   "metadata": {},
   "source": [
    "Para o uso de árvores de regressão optou-se por usar a biblioteca sklearn, uma vez que trata-se de uma biblioteca bastante utilizada e largamente testada. "
   ]
  },
  {
   "cell_type": "markdown",
   "id": "debd0c98-a9a5-4cc0-a056-5ac926be73f7",
   "metadata": {},
   "source": [
    "A seguir é apresentado um exeplo de funcionamento do modelo proposto:\n",
    "\n",
    "Tomemos como exemplo o item **REBOCO DE MURO**."
   ]
  },
  {
   "cell_type": "code",
   "execution_count": 34,
   "id": "3c2dbcc4-41fc-415f-8dad-17d51e7d4e4a",
   "metadata": {},
   "outputs": [
    {
     "data": {
      "text/html": [
       "<div>\n",
       "<style scoped>\n",
       "    .dataframe tbody tr th:only-of-type {\n",
       "        vertical-align: middle;\n",
       "    }\n",
       "\n",
       "    .dataframe tbody tr th {\n",
       "        vertical-align: top;\n",
       "    }\n",
       "\n",
       "    .dataframe thead th {\n",
       "        text-align: right;\n",
       "    }\n",
       "</style>\n",
       "<table border=\"1\" class=\"dataframe\">\n",
       "  <thead>\n",
       "    <tr style=\"text-align: right;\">\n",
       "      <th></th>\n",
       "      <th>Tipologia</th>\n",
       "      <th>Área Terreno</th>\n",
       "      <th>Área Construída</th>\n",
       "      <th>Área Fundação</th>\n",
       "      <th>Área Fachada</th>\n",
       "      <th>Área Parede</th>\n",
       "      <th>Qtde BWCs</th>\n",
       "      <th>Quantidade</th>\n",
       "      <th>Preço_Total</th>\n",
       "    </tr>\n",
       "  </thead>\n",
       "  <tbody>\n",
       "    <tr>\n",
       "      <th>1</th>\n",
       "      <td>0</td>\n",
       "      <td>485.00</td>\n",
       "      <td>246.63</td>\n",
       "      <td>237.98</td>\n",
       "      <td>597.88</td>\n",
       "      <td>615.86</td>\n",
       "      <td>5.00</td>\n",
       "      <td>415.52</td>\n",
       "      <td>16138.80</td>\n",
       "    </tr>\n",
       "    <tr>\n",
       "      <th>1</th>\n",
       "      <td>1</td>\n",
       "      <td>300.00</td>\n",
       "      <td>249.24</td>\n",
       "      <td>161.55</td>\n",
       "      <td>747.17</td>\n",
       "      <td>662.06</td>\n",
       "      <td>4.00</td>\n",
       "      <td>224.01</td>\n",
       "      <td>8700.55</td>\n",
       "    </tr>\n",
       "    <tr>\n",
       "      <th>1</th>\n",
       "      <td>1</td>\n",
       "      <td>500.00</td>\n",
       "      <td>425.00</td>\n",
       "      <td>378.31</td>\n",
       "      <td>521.67</td>\n",
       "      <td>581.76</td>\n",
       "      <td>6.00</td>\n",
       "      <td>341.63</td>\n",
       "      <td>13268.91</td>\n",
       "    </tr>\n",
       "  </tbody>\n",
       "</table>\n",
       "</div>"
      ],
      "text/plain": [
       "0  Tipologia Área Terreno Área Construída Área Fundação Área Fachada  \\\n",
       "1          0       485.00          246.63        237.98       597.88   \n",
       "1          1       300.00          249.24        161.55       747.17   \n",
       "1          1       500.00          425.00        378.31       521.67   \n",
       "\n",
       "0 Área Parede Qtde BWCs  Quantidade  Preço_Total  \n",
       "1      615.86      5.00      415.52     16138.80  \n",
       "1      662.06      4.00      224.01      8700.55  \n",
       "1      581.76      6.00      341.63     13268.91  "
      ]
     },
     "execution_count": 34,
     "metadata": {},
     "output_type": "execute_result"
    }
   ],
   "source": [
    "ex= df_p_projeto_4_1[\"REBOCO DE MURO\"]\n",
    "ex"
   ]
  },
  {
   "cell_type": "code",
   "execution_count": 35,
   "id": "db441e6d-f6f4-49d3-aa7b-a3866d4c1af9",
   "metadata": {},
   "outputs": [],
   "source": [
    "regressor = DecisionTreeRegressor(random_state=25)"
   ]
  },
  {
   "cell_type": "code",
   "execution_count": 36,
   "id": "56e3be81-2e76-42d4-8894-3a82e55da104",
   "metadata": {},
   "outputs": [
    {
     "data": {
      "text/html": [
       "<style>#sk-container-id-1 {color: black;}#sk-container-id-1 pre{padding: 0;}#sk-container-id-1 div.sk-toggleable {background-color: white;}#sk-container-id-1 label.sk-toggleable__label {cursor: pointer;display: block;width: 100%;margin-bottom: 0;padding: 0.3em;box-sizing: border-box;text-align: center;}#sk-container-id-1 label.sk-toggleable__label-arrow:before {content: \"▸\";float: left;margin-right: 0.25em;color: #696969;}#sk-container-id-1 label.sk-toggleable__label-arrow:hover:before {color: black;}#sk-container-id-1 div.sk-estimator:hover label.sk-toggleable__label-arrow:before {color: black;}#sk-container-id-1 div.sk-toggleable__content {max-height: 0;max-width: 0;overflow: hidden;text-align: left;background-color: #f0f8ff;}#sk-container-id-1 div.sk-toggleable__content pre {margin: 0.2em;color: black;border-radius: 0.25em;background-color: #f0f8ff;}#sk-container-id-1 input.sk-toggleable__control:checked~div.sk-toggleable__content {max-height: 200px;max-width: 100%;overflow: auto;}#sk-container-id-1 input.sk-toggleable__control:checked~label.sk-toggleable__label-arrow:before {content: \"▾\";}#sk-container-id-1 div.sk-estimator input.sk-toggleable__control:checked~label.sk-toggleable__label {background-color: #d4ebff;}#sk-container-id-1 div.sk-label input.sk-toggleable__control:checked~label.sk-toggleable__label {background-color: #d4ebff;}#sk-container-id-1 input.sk-hidden--visually {border: 0;clip: rect(1px 1px 1px 1px);clip: rect(1px, 1px, 1px, 1px);height: 1px;margin: -1px;overflow: hidden;padding: 0;position: absolute;width: 1px;}#sk-container-id-1 div.sk-estimator {font-family: monospace;background-color: #f0f8ff;border: 1px dotted black;border-radius: 0.25em;box-sizing: border-box;margin-bottom: 0.5em;}#sk-container-id-1 div.sk-estimator:hover {background-color: #d4ebff;}#sk-container-id-1 div.sk-parallel-item::after {content: \"\";width: 100%;border-bottom: 1px solid gray;flex-grow: 1;}#sk-container-id-1 div.sk-label:hover label.sk-toggleable__label {background-color: #d4ebff;}#sk-container-id-1 div.sk-serial::before {content: \"\";position: absolute;border-left: 1px solid gray;box-sizing: border-box;top: 0;bottom: 0;left: 50%;z-index: 0;}#sk-container-id-1 div.sk-serial {display: flex;flex-direction: column;align-items: center;background-color: white;padding-right: 0.2em;padding-left: 0.2em;position: relative;}#sk-container-id-1 div.sk-item {position: relative;z-index: 1;}#sk-container-id-1 div.sk-parallel {display: flex;align-items: stretch;justify-content: center;background-color: white;position: relative;}#sk-container-id-1 div.sk-item::before, #sk-container-id-1 div.sk-parallel-item::before {content: \"\";position: absolute;border-left: 1px solid gray;box-sizing: border-box;top: 0;bottom: 0;left: 50%;z-index: -1;}#sk-container-id-1 div.sk-parallel-item {display: flex;flex-direction: column;z-index: 1;position: relative;background-color: white;}#sk-container-id-1 div.sk-parallel-item:first-child::after {align-self: flex-end;width: 50%;}#sk-container-id-1 div.sk-parallel-item:last-child::after {align-self: flex-start;width: 50%;}#sk-container-id-1 div.sk-parallel-item:only-child::after {width: 0;}#sk-container-id-1 div.sk-dashed-wrapped {border: 1px dashed gray;margin: 0 0.4em 0.5em 0.4em;box-sizing: border-box;padding-bottom: 0.4em;background-color: white;}#sk-container-id-1 div.sk-label label {font-family: monospace;font-weight: bold;display: inline-block;line-height: 1.2em;}#sk-container-id-1 div.sk-label-container {text-align: center;}#sk-container-id-1 div.sk-container {/* jupyter's `normalize.less` sets `[hidden] { display: none; }` but bootstrap.min.css set `[hidden] { display: none !important; }` so we also need the `!important` here to be able to override the default hidden behavior on the sphinx rendered scikit-learn.org. See: https://github.com/scikit-learn/scikit-learn/issues/21755 */display: inline-block !important;position: relative;}#sk-container-id-1 div.sk-text-repr-fallback {display: none;}</style><div id=\"sk-container-id-1\" class=\"sk-top-container\"><div class=\"sk-text-repr-fallback\"><pre>DecisionTreeRegressor(random_state=25)</pre><b>In a Jupyter environment, please rerun this cell to show the HTML representation or trust the notebook. <br />On GitHub, the HTML representation is unable to render, please try loading this page with nbviewer.org.</b></div><div class=\"sk-container\" hidden><div class=\"sk-item\"><div class=\"sk-estimator sk-toggleable\"><input class=\"sk-toggleable__control sk-hidden--visually\" id=\"sk-estimator-id-1\" type=\"checkbox\" checked><label for=\"sk-estimator-id-1\" class=\"sk-toggleable__label sk-toggleable__label-arrow\">DecisionTreeRegressor</label><div class=\"sk-toggleable__content\"><pre>DecisionTreeRegressor(random_state=25)</pre></div></div></div></div></div>"
      ],
      "text/plain": [
       "DecisionTreeRegressor(random_state=25)"
      ]
     },
     "execution_count": 36,
     "metadata": {},
     "output_type": "execute_result"
    }
   ],
   "source": [
    "regressor.fit(ex.drop([\"Preço_Total\"], axis=1), ex[\"Preço_Total\"])"
   ]
  },
  {
   "cell_type": "code",
   "execution_count": 37,
   "id": "87610136-1a5f-4b40-974f-169f354514a7",
   "metadata": {},
   "outputs": [
    {
     "data": {
      "text/plain": [
       "[Text(0.4, 0.8333333333333334, 'x[1] <= 392.5\\nsquared_error = 9381527.196\\nsamples = 3\\nvalue = 12702.753'),\n",
       " Text(0.2, 0.5, 'squared_error = 0.0\\nsamples = 1\\nvalue = 8700.55'),\n",
       " Text(0.6, 0.5, 'x[1] <= 492.5\\nsquared_error = 2059067.153\\nsamples = 2\\nvalue = 14703.855'),\n",
       " Text(0.4, 0.16666666666666666, 'squared_error = 0.0\\nsamples = 1\\nvalue = 16138.8'),\n",
       " Text(0.8, 0.16666666666666666, 'squared_error = 0.0\\nsamples = 1\\nvalue = 13268.91')]"
      ]
     },
     "execution_count": 37,
     "metadata": {},
     "output_type": "execute_result"
    },
    {
     "data": {
      "image/png": "[encoded data removed]",
      "text/plain": [
       "<Figure size 640x480 with 1 Axes>"
      ]
     },
     "metadata": {},
     "output_type": "display_data"
    }
   ],
   "source": [
    "tree.plot_tree(regressor)"
   ]
  },
  {
   "cell_type": "markdown",
   "id": "ab1005d7-a41a-4926-a59b-136373370adb",
   "metadata": {},
   "source": [
    "A árvore acima nada mais é que sucessivos testes condiconais em que o objetivo final é minimizar o erro quadrático. Nesse exmplo específico temos que, se a variável **Área Terreno** for menor que $392.5$ então o preço total do item **REBOCO DE MURO** será R\\\\$ 8700,55. Caso contrário e se **Área Terreno**  menor ou igual a $492.5$, então o preço total será de R\\\\$ 16138,55, caso contrário, será de R\\\\$ 13268,91. É importante ressaltar que cada elemento terá sua própria árvore, onde o algoritmo decide quais itens considerar baseado na minimização do erro quadrático. Para não extender demasiadamente o texto, serão omitidos os diagramas de árvore para cada item, sendo deixado apenas o exemplo acima como ilustração. "
   ]
  },
  {
   "cell_type": "markdown",
   "id": "a40c0576-a6b5-4a36-94d1-3c5fc952ce77",
   "metadata": {},
   "source": [
    "A seguir será feita a transformação da base do Projeto 4, haja vista que até o momento ela se manteve inalterada."
   ]
  },
  {
   "cell_type": "code",
   "execution_count": 38,
   "id": "5b4ecf1c-fe50-4adf-9cc8-b84bf70ac01f",
   "metadata": {},
   "outputs": [],
   "source": [
    "projeto_4.iloc[:,1] = [x.replace(',', '.') for x in  projeto_4.iloc[:,1] ]\n",
    "projeto_4_t = transform_p(projeto_4)\n",
    "\n",
    "projeto_4_t = projeto_4_t.drop(\"Titulo\", axis=1)"
   ]
  },
  {
   "cell_type": "markdown",
   "id": "7b1451f2-73cf-4a9a-9395-8b5702c212bb",
   "metadata": {},
   "source": [
    "Abaixo serão geradas as previsões para cada um dos DataSets criados anteriormente. "
   ]
  },
  {
   "cell_type": "code",
   "execution_count": 39,
   "id": "99528bde-0f95-4587-b41b-d45e751e2c19",
   "metadata": {},
   "outputs": [],
   "source": [
    "orc_projeto4_1 = []\n",
    "for i in df_p_projeto_4_1:\n",
    "    df = df_p_projeto_4_1[i]\n",
    "    molde = projeto_4_t.copy()\n",
    "    molde.insert(7, \"Quantidade\", round(np.mean(df[\"Quantidade\"]),2))\n",
    "    regressor = DecisionTreeRegressor(random_state=25)\n",
    "    regressor.fit(df.drop([\"Preço_Total\"], axis=1), df[\"Preço_Total\"])\n",
    "    p_total = regressor.predict(molde)\n",
    "    info = {\"Descrição\" : i ,\n",
    "            \"Quantidade\" : molde[\"Quantidade\"].item(),\n",
    "           \"Preço_Total\" : round(p_total.item(), 2) }\n",
    "    orc_projeto4_1.append(info)"
   ]
  },
  {
   "cell_type": "code",
   "execution_count": 40,
   "id": "52e6a694-c2f3-4814-b610-abbd1d6e566d",
   "metadata": {},
   "outputs": [
    {
     "data": {
      "text/html": [
       "<div>\n",
       "<style scoped>\n",
       "    .dataframe tbody tr th:only-of-type {\n",
       "        vertical-align: middle;\n",
       "    }\n",
       "\n",
       "    .dataframe tbody tr th {\n",
       "        vertical-align: top;\n",
       "    }\n",
       "\n",
       "    .dataframe thead th {\n",
       "        text-align: right;\n",
       "    }\n",
       "</style>\n",
       "<table border=\"1\" class=\"dataframe\">\n",
       "  <thead>\n",
       "    <tr style=\"text-align: right;\">\n",
       "      <th></th>\n",
       "      <th>Descrição</th>\n",
       "      <th>Quantidade</th>\n",
       "      <th>Preço_Total</th>\n",
       "    </tr>\n",
       "  </thead>\n",
       "  <tbody>\n",
       "    <tr>\n",
       "      <th>0</th>\n",
       "      <td>INSTALACAO DE TAPUME</td>\n",
       "      <td>88.33</td>\n",
       "      <td>10102.30</td>\n",
       "    </tr>\n",
       "    <tr>\n",
       "      <th>1</th>\n",
       "      <td>TEXTURA PROJETADA COR CINZA CLARO</td>\n",
       "      <td>510.60</td>\n",
       "      <td>11489.95</td>\n",
       "    </tr>\n",
       "    <tr>\n",
       "      <th>2</th>\n",
       "      <td>SOLEIRAS DE BOX EM GRANITO DE TONALIDADE CLARA</td>\n",
       "      <td>5.48</td>\n",
       "      <td>362.69</td>\n",
       "    </tr>\n",
       "    <tr>\n",
       "      <th>3</th>\n",
       "      <td>FORRO DE GESSO  EXECUTADO EM OBRA COM TABICA E...</td>\n",
       "      <td>250.40</td>\n",
       "      <td>31728.02</td>\n",
       "    </tr>\n",
       "    <tr>\n",
       "      <th>4</th>\n",
       "      <td>LIGACOES ELETRICAS E HIDROSSANITARIAS EM CONDO...</td>\n",
       "      <td>1.00</td>\n",
       "      <td>3500.00</td>\n",
       "    </tr>\n",
       "    <tr>\n",
       "      <th>5</th>\n",
       "      <td>MURO DE BLOCO APARENTE; H2,6M</td>\n",
       "      <td>87.64</td>\n",
       "      <td>85823.29</td>\n",
       "    </tr>\n",
       "    <tr>\n",
       "      <th>6</th>\n",
       "      <td>CALCADA DE BLOCO INTERTRAVADO PAVER</td>\n",
       "      <td>26.22</td>\n",
       "      <td>3101.85</td>\n",
       "    </tr>\n",
       "    <tr>\n",
       "      <th>7</th>\n",
       "      <td>GRAMA ESMERALDA</td>\n",
       "      <td>113.76</td>\n",
       "      <td>1628.22</td>\n",
       "    </tr>\n",
       "    <tr>\n",
       "      <th>8</th>\n",
       "      <td>ESQUADRIA METALICA - JANELA LINHA 32 PRETA COM...</td>\n",
       "      <td>24.02</td>\n",
       "      <td>15584.25</td>\n",
       "    </tr>\n",
       "    <tr>\n",
       "      <th>9</th>\n",
       "      <td>TAXA AVERBACAO</td>\n",
       "      <td>1.00</td>\n",
       "      <td>502.85</td>\n",
       "    </tr>\n",
       "    <tr>\n",
       "      <th>10</th>\n",
       "      <td>PINTURA ACRILICA FOSCA; CINZA CLARO</td>\n",
       "      <td>423.13</td>\n",
       "      <td>17897.95</td>\n",
       "    </tr>\n",
       "    <tr>\n",
       "      <th>11</th>\n",
       "      <td>LIMPEZA FINAL DE OBRA</td>\n",
       "      <td>383.33</td>\n",
       "      <td>6900.00</td>\n",
       "    </tr>\n",
       "    <tr>\n",
       "      <th>12</th>\n",
       "      <td>CONDICAO DE ACESSO DE EQUIPAMENTOS E MATERIAIS</td>\n",
       "      <td>3.40</td>\n",
       "      <td>7200.00</td>\n",
       "    </tr>\n",
       "    <tr>\n",
       "      <th>13</th>\n",
       "      <td>CONSUMO DE AGUA DURANTE A OBRA</td>\n",
       "      <td>4.00</td>\n",
       "      <td>960.00</td>\n",
       "    </tr>\n",
       "    <tr>\n",
       "      <th>14</th>\n",
       "      <td>REVESTIMENTO CERAMICO DE PAREDE; 60X30CM; BRAN...</td>\n",
       "      <td>41.39</td>\n",
       "      <td>4478.75</td>\n",
       "    </tr>\n",
       "    <tr>\n",
       "      <th>15</th>\n",
       "      <td>ALVENARIA DE VEDACAO DE BLOCO CERAMICO 014</td>\n",
       "      <td>297.51</td>\n",
       "      <td>124606.48</td>\n",
       "    </tr>\n",
       "    <tr>\n",
       "      <th>16</th>\n",
       "      <td>CONTAINER PARA MATERIAL</td>\n",
       "      <td>4.00</td>\n",
       "      <td>5760.00</td>\n",
       "    </tr>\n",
       "    <tr>\n",
       "      <th>17</th>\n",
       "      <td>LIGACOES ELETRICAS E HIDROSSANITARIAS EM CONDO...</td>\n",
       "      <td>307.33</td>\n",
       "      <td>33575.00</td>\n",
       "    </tr>\n",
       "    <tr>\n",
       "      <th>18</th>\n",
       "      <td>INSTALACOES PROVISORIAS DE AGUA E ENERGIA</td>\n",
       "      <td>1.00</td>\n",
       "      <td>100.00</td>\n",
       "    </tr>\n",
       "    <tr>\n",
       "      <th>19</th>\n",
       "      <td>CONCRETAGEM E DESFORMA - LAJE PRE FABRICADA TR...</td>\n",
       "      <td>273.64</td>\n",
       "      <td>75962.39</td>\n",
       "    </tr>\n",
       "    <tr>\n",
       "      <th>20</th>\n",
       "      <td>ACABAMENTOS ELETRICOS - PADRAO ALTO</td>\n",
       "      <td>307.33</td>\n",
       "      <td>16320.00</td>\n",
       "    </tr>\n",
       "    <tr>\n",
       "      <th>21</th>\n",
       "      <td>TEXTURA ROLADA PARA MURO - BRANCA</td>\n",
       "      <td>318.53</td>\n",
       "      <td>12371.34</td>\n",
       "    </tr>\n",
       "    <tr>\n",
       "      <th>22</th>\n",
       "      <td>INSTALACAO DE PLACA DE OBRA</td>\n",
       "      <td>1.00</td>\n",
       "      <td>300.00</td>\n",
       "    </tr>\n",
       "    <tr>\n",
       "      <th>23</th>\n",
       "      <td>SONDAGEM</td>\n",
       "      <td>1.00</td>\n",
       "      <td>3000.00</td>\n",
       "    </tr>\n",
       "    <tr>\n",
       "      <th>24</th>\n",
       "      <td>ACABAMENTOS HIDROSSANITARIOS NOS BANHEIROS - P...</td>\n",
       "      <td>5.00</td>\n",
       "      <td>32070.00</td>\n",
       "    </tr>\n",
       "    <tr>\n",
       "      <th>25</th>\n",
       "      <td>ESCADA EM CONCRETO ARMADO</td>\n",
       "      <td>5.88</td>\n",
       "      <td>8802.93</td>\n",
       "    </tr>\n",
       "    <tr>\n",
       "      <th>26</th>\n",
       "      <td>INSTALACOES DE AGUA FRIA, AGUA QUENTE E ESGOTO</td>\n",
       "      <td>307.33</td>\n",
       "      <td>54612.50</td>\n",
       "    </tr>\n",
       "    <tr>\n",
       "      <th>27</th>\n",
       "      <td>SOLEIRA DE PORTA EM GRANITO PRETO SAO GABRIEL</td>\n",
       "      <td>32.94</td>\n",
       "      <td>2978.27</td>\n",
       "    </tr>\n",
       "    <tr>\n",
       "      <th>28</th>\n",
       "      <td>ACABAMENTOS HIDROSSANITARIOS NA COZINHA E AREA...</td>\n",
       "      <td>1.33</td>\n",
       "      <td>680.00</td>\n",
       "    </tr>\n",
       "    <tr>\n",
       "      <th>29</th>\n",
       "      <td>TAXA RRT</td>\n",
       "      <td>1.00</td>\n",
       "      <td>108.69</td>\n",
       "    </tr>\n",
       "    <tr>\n",
       "      <th>30</th>\n",
       "      <td>PINTURA ACRILICA FOSCA; BRANCO NEVE</td>\n",
       "      <td>271.07</td>\n",
       "      <td>12465.71</td>\n",
       "    </tr>\n",
       "    <tr>\n",
       "      <th>31</th>\n",
       "      <td>CONTRAPISO 4CM</td>\n",
       "      <td>357.27</td>\n",
       "      <td>29160.04</td>\n",
       "    </tr>\n",
       "    <tr>\n",
       "      <th>32</th>\n",
       "      <td>EPI E PEC PARA TIME DE 5 PESSOAS</td>\n",
       "      <td>4.00</td>\n",
       "      <td>9600.00</td>\n",
       "    </tr>\n",
       "    <tr>\n",
       "      <th>33</th>\n",
       "      <td>ALCAPAO METALICO BRANCO 60X60</td>\n",
       "      <td>1.00</td>\n",
       "      <td>150.26</td>\n",
       "    </tr>\n",
       "    <tr>\n",
       "      <th>34</th>\n",
       "      <td>TAXA ART</td>\n",
       "      <td>2.00</td>\n",
       "      <td>177.56</td>\n",
       "    </tr>\n",
       "    <tr>\n",
       "      <th>35</th>\n",
       "      <td>CONSUMO DE ENERGIA DURANTE A OBRA</td>\n",
       "      <td>4.00</td>\n",
       "      <td>1920.00</td>\n",
       "    </tr>\n",
       "    <tr>\n",
       "      <th>36</th>\n",
       "      <td>LEVANTAMENTO TOPOGRAFICO</td>\n",
       "      <td>1.33</td>\n",
       "      <td>2400.00</td>\n",
       "    </tr>\n",
       "    <tr>\n",
       "      <th>37</th>\n",
       "      <td>REBOCO DE MURO</td>\n",
       "      <td>327.05</td>\n",
       "      <td>8700.55</td>\n",
       "    </tr>\n",
       "    <tr>\n",
       "      <th>38</th>\n",
       "      <td>CACAMBAS E GESTAO DE RESIDUOS</td>\n",
       "      <td>4.00</td>\n",
       "      <td>6000.00</td>\n",
       "    </tr>\n",
       "    <tr>\n",
       "      <th>39</th>\n",
       "      <td>RESTANTE REBOCO INTERNO</td>\n",
       "      <td>1071.32</td>\n",
       "      <td>67858.65</td>\n",
       "    </tr>\n",
       "    <tr>\n",
       "      <th>40</th>\n",
       "      <td>TAXA PROTOCOLO</td>\n",
       "      <td>1.00</td>\n",
       "      <td>800.00</td>\n",
       "    </tr>\n",
       "    <tr>\n",
       "      <th>41</th>\n",
       "      <td>BANHEIRO PROVISORIO</td>\n",
       "      <td>4.00</td>\n",
       "      <td>7200.00</td>\n",
       "    </tr>\n",
       "    <tr>\n",
       "      <th>42</th>\n",
       "      <td>LIMPEZA DA CAMADA VEGETAL DO LOTE</td>\n",
       "      <td>428.33</td>\n",
       "      <td>5432.00</td>\n",
       "    </tr>\n",
       "    <tr>\n",
       "      <th>43</th>\n",
       "      <td>FORMALIZACAO DA ENTREGA VISTORIA, ACEITE</td>\n",
       "      <td>1.00</td>\n",
       "      <td>1.12</td>\n",
       "    </tr>\n",
       "    <tr>\n",
       "      <th>44</th>\n",
       "      <td>APROVACAO DE PROJETOS E TAXAS</td>\n",
       "      <td>1.00</td>\n",
       "      <td>2000.00</td>\n",
       "    </tr>\n",
       "    <tr>\n",
       "      <th>45</th>\n",
       "      <td>TAXA HABITE-SE PREFEITURA</td>\n",
       "      <td>1.00</td>\n",
       "      <td>150.00</td>\n",
       "    </tr>\n",
       "    <tr>\n",
       "      <th>46</th>\n",
       "      <td>INSTALACOES ELETRICAS - PADRAO ALTO</td>\n",
       "      <td>307.33</td>\n",
       "      <td>26075.00</td>\n",
       "    </tr>\n",
       "    <tr>\n",
       "      <th>47</th>\n",
       "      <td>CUSTOS DE IMPRESAO E PLOTAGEM</td>\n",
       "      <td>1.00</td>\n",
       "      <td>800.00</td>\n",
       "    </tr>\n",
       "    <tr>\n",
       "      <th>48</th>\n",
       "      <td>PORTA INTERNA DE MADEIRA SEMI-OCA; 70X210CM; B...</td>\n",
       "      <td>5.00</td>\n",
       "      <td>5756.52</td>\n",
       "    </tr>\n",
       "    <tr>\n",
       "      <th>49</th>\n",
       "      <td>TUBULACAO DE GAS E ABRIGO</td>\n",
       "      <td>2.50</td>\n",
       "      <td>4650.00</td>\n",
       "    </tr>\n",
       "    <tr>\n",
       "      <th>50</th>\n",
       "      <td>TAXA VISTORIA CONCESSIONARIA DE AGUA</td>\n",
       "      <td>1.00</td>\n",
       "      <td>260.00</td>\n",
       "    </tr>\n",
       "    <tr>\n",
       "      <th>51</th>\n",
       "      <td>CALHAS E RUFOS COM PINTURA ELETROSTATICA COR B...</td>\n",
       "      <td>146.26</td>\n",
       "      <td>17532.41</td>\n",
       "    </tr>\n",
       "    <tr>\n",
       "      <th>52</th>\n",
       "      <td>PORTA EXTERNA DE MADEIRA MACICA; 80X210CM; BRANCA</td>\n",
       "      <td>1.67</td>\n",
       "      <td>4569.44</td>\n",
       "    </tr>\n",
       "  </tbody>\n",
       "</table>\n",
       "</div>"
      ],
      "text/plain": [
       "                                            Descrição  Quantidade  Preço_Total\n",
       "0                                INSTALACAO DE TAPUME       88.33     10102.30\n",
       "1                   TEXTURA PROJETADA COR CINZA CLARO      510.60     11489.95\n",
       "2      SOLEIRAS DE BOX EM GRANITO DE TONALIDADE CLARA        5.48       362.69\n",
       "3   FORRO DE GESSO  EXECUTADO EM OBRA COM TABICA E...      250.40     31728.02\n",
       "4   LIGACOES ELETRICAS E HIDROSSANITARIAS EM CONDO...        1.00      3500.00\n",
       "5                       MURO DE BLOCO APARENTE; H2,6M       87.64     85823.29\n",
       "6                 CALCADA DE BLOCO INTERTRAVADO PAVER       26.22      3101.85\n",
       "7                                     GRAMA ESMERALDA      113.76      1628.22\n",
       "8   ESQUADRIA METALICA - JANELA LINHA 32 PRETA COM...       24.02     15584.25\n",
       "9                                      TAXA AVERBACAO        1.00       502.85\n",
       "10                PINTURA ACRILICA FOSCA; CINZA CLARO      423.13     17897.95\n",
       "11                              LIMPEZA FINAL DE OBRA      383.33      6900.00\n",
       "12     CONDICAO DE ACESSO DE EQUIPAMENTOS E MATERIAIS        3.40      7200.00\n",
       "13                     CONSUMO DE AGUA DURANTE A OBRA        4.00       960.00\n",
       "14  REVESTIMENTO CERAMICO DE PAREDE; 60X30CM; BRAN...       41.39      4478.75\n",
       "15         ALVENARIA DE VEDACAO DE BLOCO CERAMICO 014      297.51    124606.48\n",
       "16                            CONTAINER PARA MATERIAL        4.00      5760.00\n",
       "17  LIGACOES ELETRICAS E HIDROSSANITARIAS EM CONDO...      307.33     33575.00\n",
       "18          INSTALACOES PROVISORIAS DE AGUA E ENERGIA        1.00       100.00\n",
       "19  CONCRETAGEM E DESFORMA - LAJE PRE FABRICADA TR...      273.64     75962.39\n",
       "20                ACABAMENTOS ELETRICOS - PADRAO ALTO      307.33     16320.00\n",
       "21                  TEXTURA ROLADA PARA MURO - BRANCA      318.53     12371.34\n",
       "22                        INSTALACAO DE PLACA DE OBRA        1.00       300.00\n",
       "23                                           SONDAGEM        1.00      3000.00\n",
       "24  ACABAMENTOS HIDROSSANITARIOS NOS BANHEIROS - P...        5.00     32070.00\n",
       "25                          ESCADA EM CONCRETO ARMADO        5.88      8802.93\n",
       "26     INSTALACOES DE AGUA FRIA, AGUA QUENTE E ESGOTO      307.33     54612.50\n",
       "27      SOLEIRA DE PORTA EM GRANITO PRETO SAO GABRIEL       32.94      2978.27\n",
       "28  ACABAMENTOS HIDROSSANITARIOS NA COZINHA E AREA...        1.33       680.00\n",
       "29                                           TAXA RRT        1.00       108.69\n",
       "30                PINTURA ACRILICA FOSCA; BRANCO NEVE      271.07     12465.71\n",
       "31                                     CONTRAPISO 4CM      357.27     29160.04\n",
       "32                   EPI E PEC PARA TIME DE 5 PESSOAS        4.00      9600.00\n",
       "33                      ALCAPAO METALICO BRANCO 60X60        1.00       150.26\n",
       "34                                           TAXA ART        2.00       177.56\n",
       "35                  CONSUMO DE ENERGIA DURANTE A OBRA        4.00      1920.00\n",
       "36                           LEVANTAMENTO TOPOGRAFICO        1.33      2400.00\n",
       "37                                     REBOCO DE MURO      327.05      8700.55\n",
       "38                      CACAMBAS E GESTAO DE RESIDUOS        4.00      6000.00\n",
       "39                            RESTANTE REBOCO INTERNO     1071.32     67858.65\n",
       "40                                     TAXA PROTOCOLO        1.00       800.00\n",
       "41                                BANHEIRO PROVISORIO        4.00      7200.00\n",
       "42                  LIMPEZA DA CAMADA VEGETAL DO LOTE      428.33      5432.00\n",
       "43           FORMALIZACAO DA ENTREGA VISTORIA, ACEITE        1.00         1.12\n",
       "44                      APROVACAO DE PROJETOS E TAXAS        1.00      2000.00\n",
       "45                          TAXA HABITE-SE PREFEITURA        1.00       150.00\n",
       "46                INSTALACOES ELETRICAS - PADRAO ALTO      307.33     26075.00\n",
       "47                      CUSTOS DE IMPRESAO E PLOTAGEM        1.00       800.00\n",
       "48  PORTA INTERNA DE MADEIRA SEMI-OCA; 70X210CM; B...        5.00      5756.52\n",
       "49                          TUBULACAO DE GAS E ABRIGO        2.50      4650.00\n",
       "50               TAXA VISTORIA CONCESSIONARIA DE AGUA        1.00       260.00\n",
       "51  CALHAS E RUFOS COM PINTURA ELETROSTATICA COR B...      146.26     17532.41\n",
       "52  PORTA EXTERNA DE MADEIRA MACICA; 80X210CM; BRANCA        1.67      4569.44"
      ]
     },
     "execution_count": 40,
     "metadata": {},
     "output_type": "execute_result"
    }
   ],
   "source": [
    "orc_projeto4_1 = pd.DataFrame(orc_projeto4_1)\n",
    "orc_projeto4_1"
   ]
  },
  {
   "cell_type": "code",
   "execution_count": 41,
   "id": "e3e6815e-8f70-43e5-ba39-97bb586f56b5",
   "metadata": {},
   "outputs": [],
   "source": [
    "orc_projeto4_2 = []\n",
    "for i in df_p_projeto_4_2:\n",
    "    df = df_p_projeto_4_2[i]\n",
    "    molde = projeto_4_t.copy()\n",
    "    molde.insert(7, \"Quantidade\", round(np.mean(df[\"Quantidade\"]),2))\n",
    "    regressor = DecisionTreeRegressor(random_state=25)\n",
    "    regressor.fit(df.drop([\"Preço_Total\"], axis=1), df[\"Preço_Total\"])\n",
    "    p_total = regressor.predict(molde)\n",
    "    info = {\"Descrição\" : i ,\n",
    "            \"Quantidade\" : molde[\"Quantidade\"].item(),\n",
    "           \"Preço_Total\" : round(p_total.item(), 2) }\n",
    "    orc_projeto4_2.append(info)"
   ]
  },
  {
   "cell_type": "code",
   "execution_count": 42,
   "id": "bd11a8e6-9a7c-44b7-81b6-8827e83bf231",
   "metadata": {},
   "outputs": [
    {
     "data": {
      "text/html": [
       "<div>\n",
       "<style scoped>\n",
       "    .dataframe tbody tr th:only-of-type {\n",
       "        vertical-align: middle;\n",
       "    }\n",
       "\n",
       "    .dataframe tbody tr th {\n",
       "        vertical-align: top;\n",
       "    }\n",
       "\n",
       "    .dataframe thead th {\n",
       "        text-align: right;\n",
       "    }\n",
       "</style>\n",
       "<table border=\"1\" class=\"dataframe\">\n",
       "  <thead>\n",
       "    <tr style=\"text-align: right;\">\n",
       "      <th></th>\n",
       "      <th>Descrição</th>\n",
       "      <th>Quantidade</th>\n",
       "      <th>Preço_Total</th>\n",
       "    </tr>\n",
       "  </thead>\n",
       "  <tbody>\n",
       "    <tr>\n",
       "      <th>0</th>\n",
       "      <td>CALCADA INTERNA DE CONCREGRAMA</td>\n",
       "      <td>26.98</td>\n",
       "      <td>3584.08</td>\n",
       "    </tr>\n",
       "    <tr>\n",
       "      <th>1</th>\n",
       "      <td>CHURRASQUEIRA PRE MOLDADA DE CONCRETO</td>\n",
       "      <td>1.00</td>\n",
       "      <td>4535.00</td>\n",
       "    </tr>\n",
       "    <tr>\n",
       "      <th>2</th>\n",
       "      <td>CONCRETAGEM E DESFORMA - VIGA DE BORDO; 20X40CM</td>\n",
       "      <td>50.25</td>\n",
       "      <td>14108.31</td>\n",
       "    </tr>\n",
       "    <tr>\n",
       "      <th>3</th>\n",
       "      <td>ESTRUTURA DE TELHADO PARA SOBRADO COM FIBROCIM...</td>\n",
       "      <td>128.82</td>\n",
       "      <td>29094.62</td>\n",
       "    </tr>\n",
       "    <tr>\n",
       "      <th>4</th>\n",
       "      <td>PORTA INTERNA DE MADEIRA SEMI-OCA; 80X210CM; B...</td>\n",
       "      <td>5.50</td>\n",
       "      <td>4922.10</td>\n",
       "    </tr>\n",
       "    <tr>\n",
       "      <th>5</th>\n",
       "      <td>REVESTIMENTO DE ESCADA DE GRANITO TONALIDADE C...</td>\n",
       "      <td>9.18</td>\n",
       "      <td>23375.56</td>\n",
       "    </tr>\n",
       "  </tbody>\n",
       "</table>\n",
       "</div>"
      ],
      "text/plain": [
       "                                           Descrição  Quantidade  Preço_Total\n",
       "0                     CALCADA INTERNA DE CONCREGRAMA       26.98      3584.08\n",
       "1              CHURRASQUEIRA PRE MOLDADA DE CONCRETO        1.00      4535.00\n",
       "2    CONCRETAGEM E DESFORMA - VIGA DE BORDO; 20X40CM       50.25     14108.31\n",
       "3  ESTRUTURA DE TELHADO PARA SOBRADO COM FIBROCIM...      128.82     29094.62\n",
       "4  PORTA INTERNA DE MADEIRA SEMI-OCA; 80X210CM; B...        5.50      4922.10\n",
       "5  REVESTIMENTO DE ESCADA DE GRANITO TONALIDADE C...        9.18     23375.56"
      ]
     },
     "execution_count": 42,
     "metadata": {},
     "output_type": "execute_result"
    }
   ],
   "source": [
    "orc_projeto4_2 = pd.DataFrame(orc_projeto4_2)\n",
    "orc_projeto4_2"
   ]
  },
  {
   "cell_type": "code",
   "execution_count": 43,
   "id": "77e5bedf-506a-4348-b7cd-d1647556be24",
   "metadata": {},
   "outputs": [],
   "source": [
    "orc_projeto4_3 = []\n",
    "for i in df_p_projeto_4_3:\n",
    "    df = df_p_projeto_4_3[i]\n",
    "    molde = projeto_4_t.copy()\n",
    "    molde.insert(7, \"Quantidade\", round(np.mean(df[\"Quantidade\"]),2))\n",
    "    regressor = DecisionTreeRegressor(random_state=25)\n",
    "    regressor.fit(df.drop([\"Preço_Total\"], axis=1), df[\"Preço_Total\"])\n",
    "    p_total = regressor.predict(molde)\n",
    "    info = {\"Descrição\" : i ,\n",
    "            \"Quantidade\" : molde[\"Quantidade\"].item(),\n",
    "           \"Preço_Total\" : round(p_total.item(),2) }\n",
    "    orc_projeto4_3.append(info)"
   ]
  },
  {
   "cell_type": "code",
   "execution_count": 44,
   "id": "f6b93df2-b300-4dce-9376-d1e57e8d6f76",
   "metadata": {},
   "outputs": [
    {
     "data": {
      "text/html": [
       "<div>\n",
       "<style scoped>\n",
       "    .dataframe tbody tr th:only-of-type {\n",
       "        vertical-align: middle;\n",
       "    }\n",
       "\n",
       "    .dataframe tbody tr th {\n",
       "        vertical-align: top;\n",
       "    }\n",
       "\n",
       "    .dataframe thead th {\n",
       "        text-align: right;\n",
       "    }\n",
       "</style>\n",
       "<table border=\"1\" class=\"dataframe\">\n",
       "  <thead>\n",
       "    <tr style=\"text-align: right;\">\n",
       "      <th></th>\n",
       "      <th>Descrição</th>\n",
       "      <th>Quantidade</th>\n",
       "      <th>Preço_Total</th>\n",
       "    </tr>\n",
       "  </thead>\n",
       "  <tbody>\n",
       "    <tr>\n",
       "      <th>0</th>\n",
       "      <td>PORTAO DE VEICULO BASCULANTE 4,2M H2,4M</td>\n",
       "      <td>1.00</td>\n",
       "      <td>13440.00</td>\n",
       "    </tr>\n",
       "    <tr>\n",
       "      <th>1</th>\n",
       "      <td>PISO LAMINADO; TONALIDADE CLARA; RODAPE EPS BR...</td>\n",
       "      <td>102.10</td>\n",
       "      <td>13526.76</td>\n",
       "    </tr>\n",
       "    <tr>\n",
       "      <th>2</th>\n",
       "      <td>TEXTURA PROJETADA COR CINZA MEDIO</td>\n",
       "      <td>26.40</td>\n",
       "      <td>975.82</td>\n",
       "    </tr>\n",
       "    <tr>\n",
       "      <th>3</th>\n",
       "      <td>PORCELANATO; 60X60CM; CINZA CLARO; RETIFICADO;...</td>\n",
       "      <td>29.22</td>\n",
       "      <td>7371.13</td>\n",
       "    </tr>\n",
       "    <tr>\n",
       "      <th>4</th>\n",
       "      <td>PORTA DE CORRER DE MADEIRA SEMI-OCA; 70X210CM;...</td>\n",
       "      <td>2.00</td>\n",
       "      <td>170.00</td>\n",
       "    </tr>\n",
       "    <tr>\n",
       "      <th>5</th>\n",
       "      <td>GUARDA CORPO INOX 110CM</td>\n",
       "      <td>10.34</td>\n",
       "      <td>19904.50</td>\n",
       "    </tr>\n",
       "    <tr>\n",
       "      <th>6</th>\n",
       "      <td>PORTAO DE PEDESTRE; ABRIR; H2,2M</td>\n",
       "      <td>1.30</td>\n",
       "      <td>2860.00</td>\n",
       "    </tr>\n",
       "    <tr>\n",
       "      <th>7</th>\n",
       "      <td>PORCELANATO; 60X60CM; CINZA CLARO; RETIFICADO;...</td>\n",
       "      <td>8.94</td>\n",
       "      <td>1888.58</td>\n",
       "    </tr>\n",
       "    <tr>\n",
       "      <th>8</th>\n",
       "      <td>TEXTURA PROJETADA COR CINZA ESCURO</td>\n",
       "      <td>72.55</td>\n",
       "      <td>2681.66</td>\n",
       "    </tr>\n",
       "    <tr>\n",
       "      <th>9</th>\n",
       "      <td>PORTA EM ALUMINIO PRETO E VIDRO UMA FOLHA DE A...</td>\n",
       "      <td>2.00</td>\n",
       "      <td>2800.00</td>\n",
       "    </tr>\n",
       "    <tr>\n",
       "      <th>10</th>\n",
       "      <td>REVESTIMENTO CERAMICO DE PAREDE; 60X60CM; CINC...</td>\n",
       "      <td>74.32</td>\n",
       "      <td>13433.67</td>\n",
       "    </tr>\n",
       "    <tr>\n",
       "      <th>11</th>\n",
       "      <td>PORCELANATO MADEIRA NA FACHADA. REF. INCEPA, P...</td>\n",
       "      <td>25.14</td>\n",
       "      <td>7496.87</td>\n",
       "    </tr>\n",
       "    <tr>\n",
       "      <th>12</th>\n",
       "      <td>CONCRETAGEM DE FUNDACAO DE RADIER COM FIBRA DE...</td>\n",
       "      <td>161.55</td>\n",
       "      <td>34008.49</td>\n",
       "    </tr>\n",
       "    <tr>\n",
       "      <th>13</th>\n",
       "      <td>PORTA EM ALUMINIO BRANCO UMA FOLHA DE ABRIR - ...</td>\n",
       "      <td>1.00</td>\n",
       "      <td>540.00</td>\n",
       "    </tr>\n",
       "  </tbody>\n",
       "</table>\n",
       "</div>"
      ],
      "text/plain": [
       "                                            Descrição  Quantidade  Preço_Total\n",
       "0             PORTAO DE VEICULO BASCULANTE 4,2M H2,4M        1.00     13440.00\n",
       "1   PISO LAMINADO; TONALIDADE CLARA; RODAPE EPS BR...      102.10     13526.76\n",
       "2                   TEXTURA PROJETADA COR CINZA MEDIO       26.40       975.82\n",
       "3   PORCELANATO; 60X60CM; CINZA CLARO; RETIFICADO;...       29.22      7371.13\n",
       "4   PORTA DE CORRER DE MADEIRA SEMI-OCA; 70X210CM;...        2.00       170.00\n",
       "5                             GUARDA CORPO INOX 110CM       10.34     19904.50\n",
       "6                    PORTAO DE PEDESTRE; ABRIR; H2,2M        1.30      2860.00\n",
       "7   PORCELANATO; 60X60CM; CINZA CLARO; RETIFICADO;...        8.94      1888.58\n",
       "8                  TEXTURA PROJETADA COR CINZA ESCURO       72.55      2681.66\n",
       "9   PORTA EM ALUMINIO PRETO E VIDRO UMA FOLHA DE A...        2.00      2800.00\n",
       "10  REVESTIMENTO CERAMICO DE PAREDE; 60X60CM; CINC...       74.32     13433.67\n",
       "11  PORCELANATO MADEIRA NA FACHADA. REF. INCEPA, P...       25.14      7496.87\n",
       "12  CONCRETAGEM DE FUNDACAO DE RADIER COM FIBRA DE...      161.55     34008.49\n",
       "13  PORTA EM ALUMINIO BRANCO UMA FOLHA DE ABRIR - ...        1.00       540.00"
      ]
     },
     "execution_count": 44,
     "metadata": {},
     "output_type": "execute_result"
    }
   ],
   "source": [
    "orc_projeto4_3 = pd.DataFrame(orc_projeto4_3)\n",
    "orc_projeto4_3"
   ]
  },
  {
   "cell_type": "code",
   "execution_count": 45,
   "id": "6b960f02-cb76-4160-b466-13d22bab5cef",
   "metadata": {},
   "outputs": [],
   "source": [
    "orc_projeto4_4 = []\n",
    "for i in df_p_projeto_4_4:\n",
    "    df = df_p_projeto_4_4[i]\n",
    "    molde = projeto_4_t.copy()\n",
    "    molde.insert(7, \"Quantidade\", round(np.mean(df[\"Quantidade\"]),2))\n",
    "    regressor = DecisionTreeRegressor(random_state=25)\n",
    "    regressor.fit(df.drop([\"Preço_Total\"], axis=1), df[\"Preço_Total\"])\n",
    "    p_total = regressor.predict(molde)\n",
    "    info = {\"Descrição\" : i ,\n",
    "            \"Quantidade\" : molde[\"Quantidade\"].item(),\n",
    "           \"Preço_Total\" : round(p_total.item(),2) }\n",
    "    orc_projeto4_4.append(info)"
   ]
  },
  {
   "cell_type": "code",
   "execution_count": 46,
   "id": "c1503d31-71d7-4837-b96c-25ade1b72f18",
   "metadata": {},
   "outputs": [
    {
     "data": {
      "text/html": [
       "<div>\n",
       "<style scoped>\n",
       "    .dataframe tbody tr th:only-of-type {\n",
       "        vertical-align: middle;\n",
       "    }\n",
       "\n",
       "    .dataframe tbody tr th {\n",
       "        vertical-align: top;\n",
       "    }\n",
       "\n",
       "    .dataframe thead th {\n",
       "        text-align: right;\n",
       "    }\n",
       "</style>\n",
       "<table border=\"1\" class=\"dataframe\">\n",
       "  <thead>\n",
       "    <tr style=\"text-align: right;\">\n",
       "      <th></th>\n",
       "      <th>Descrição</th>\n",
       "      <th>Quantidade</th>\n",
       "      <th>Preço_Total</th>\n",
       "    </tr>\n",
       "  </thead>\n",
       "  <tbody>\n",
       "    <tr>\n",
       "      <th>0</th>\n",
       "      <td>PORTA EM ALUMINIO BRANCO UMA FOLHA DE ABRIR - ...</td>\n",
       "      <td>25.4</td>\n",
       "      <td>20409.66</td>\n",
       "    </tr>\n",
       "  </tbody>\n",
       "</table>\n",
       "</div>"
      ],
      "text/plain": [
       "                                           Descrição  Quantidade  Preço_Total\n",
       "0  PORTA EM ALUMINIO BRANCO UMA FOLHA DE ABRIR - ...        25.4     20409.66"
      ]
     },
     "execution_count": 46,
     "metadata": {},
     "output_type": "execute_result"
    }
   ],
   "source": [
    "orc_projeto4_4 = pd.DataFrame(orc_projeto4_4)\n",
    "orc_projeto4_4"
   ]
  },
  {
   "cell_type": "code",
   "execution_count": 47,
   "id": "2ce62eac-4c94-44ba-86bb-0da001885b44",
   "metadata": {},
   "outputs": [],
   "source": [
    "orc_projeto4 = pd.concat([orc_projeto4_1,orc_projeto4_2,orc_projeto4_3,orc_projeto4_4])"
   ]
  },
  {
   "cell_type": "code",
   "execution_count": 48,
   "id": "7309592b-1c61-4615-8564-00771d94f8d2",
   "metadata": {},
   "outputs": [
    {
     "data": {
      "text/html": [
       "<div>\n",
       "<style scoped>\n",
       "    .dataframe tbody tr th:only-of-type {\n",
       "        vertical-align: middle;\n",
       "    }\n",
       "\n",
       "    .dataframe tbody tr th {\n",
       "        vertical-align: top;\n",
       "    }\n",
       "\n",
       "    .dataframe thead th {\n",
       "        text-align: right;\n",
       "    }\n",
       "</style>\n",
       "<table border=\"1\" class=\"dataframe\">\n",
       "  <thead>\n",
       "    <tr style=\"text-align: right;\">\n",
       "      <th></th>\n",
       "      <th>Descrição</th>\n",
       "      <th>Quantidade</th>\n",
       "      <th>Preço_Total</th>\n",
       "    </tr>\n",
       "  </thead>\n",
       "  <tbody>\n",
       "    <tr>\n",
       "      <th>0</th>\n",
       "      <td>INSTALACAO DE TAPUME</td>\n",
       "      <td>88.33</td>\n",
       "      <td>10102.30</td>\n",
       "    </tr>\n",
       "    <tr>\n",
       "      <th>1</th>\n",
       "      <td>TEXTURA PROJETADA COR CINZA CLARO</td>\n",
       "      <td>510.60</td>\n",
       "      <td>11489.95</td>\n",
       "    </tr>\n",
       "    <tr>\n",
       "      <th>2</th>\n",
       "      <td>SOLEIRAS DE BOX EM GRANITO DE TONALIDADE CLARA</td>\n",
       "      <td>5.48</td>\n",
       "      <td>362.69</td>\n",
       "    </tr>\n",
       "    <tr>\n",
       "      <th>3</th>\n",
       "      <td>FORRO DE GESSO  EXECUTADO EM OBRA COM TABICA E...</td>\n",
       "      <td>250.40</td>\n",
       "      <td>31728.02</td>\n",
       "    </tr>\n",
       "    <tr>\n",
       "      <th>4</th>\n",
       "      <td>LIGACOES ELETRICAS E HIDROSSANITARIAS EM CONDO...</td>\n",
       "      <td>1.00</td>\n",
       "      <td>3500.00</td>\n",
       "    </tr>\n",
       "    <tr>\n",
       "      <th>...</th>\n",
       "      <td>...</td>\n",
       "      <td>...</td>\n",
       "      <td>...</td>\n",
       "    </tr>\n",
       "    <tr>\n",
       "      <th>10</th>\n",
       "      <td>REVESTIMENTO CERAMICO DE PAREDE; 60X60CM; CINC...</td>\n",
       "      <td>74.32</td>\n",
       "      <td>13433.67</td>\n",
       "    </tr>\n",
       "    <tr>\n",
       "      <th>11</th>\n",
       "      <td>PORCELANATO MADEIRA NA FACHADA. REF. INCEPA, P...</td>\n",
       "      <td>25.14</td>\n",
       "      <td>7496.87</td>\n",
       "    </tr>\n",
       "    <tr>\n",
       "      <th>12</th>\n",
       "      <td>CONCRETAGEM DE FUNDACAO DE RADIER COM FIBRA DE...</td>\n",
       "      <td>161.55</td>\n",
       "      <td>34008.49</td>\n",
       "    </tr>\n",
       "    <tr>\n",
       "      <th>13</th>\n",
       "      <td>PORTA EM ALUMINIO BRANCO UMA FOLHA DE ABRIR - ...</td>\n",
       "      <td>1.00</td>\n",
       "      <td>540.00</td>\n",
       "    </tr>\n",
       "    <tr>\n",
       "      <th>0</th>\n",
       "      <td>PORTA EM ALUMINIO BRANCO UMA FOLHA DE ABRIR - ...</td>\n",
       "      <td>25.40</td>\n",
       "      <td>20409.66</td>\n",
       "    </tr>\n",
       "  </tbody>\n",
       "</table>\n",
       "<p>74 rows × 3 columns</p>\n",
       "</div>"
      ],
      "text/plain": [
       "                                            Descrição  Quantidade  Preço_Total\n",
       "0                                INSTALACAO DE TAPUME       88.33     10102.30\n",
       "1                   TEXTURA PROJETADA COR CINZA CLARO      510.60     11489.95\n",
       "2      SOLEIRAS DE BOX EM GRANITO DE TONALIDADE CLARA        5.48       362.69\n",
       "3   FORRO DE GESSO  EXECUTADO EM OBRA COM TABICA E...      250.40     31728.02\n",
       "4   LIGACOES ELETRICAS E HIDROSSANITARIAS EM CONDO...        1.00      3500.00\n",
       "..                                                ...         ...          ...\n",
       "10  REVESTIMENTO CERAMICO DE PAREDE; 60X60CM; CINC...       74.32     13433.67\n",
       "11  PORCELANATO MADEIRA NA FACHADA. REF. INCEPA, P...       25.14      7496.87\n",
       "12  CONCRETAGEM DE FUNDACAO DE RADIER COM FIBRA DE...      161.55     34008.49\n",
       "13  PORTA EM ALUMINIO BRANCO UMA FOLHA DE ABRIR - ...        1.00       540.00\n",
       "0   PORTA EM ALUMINIO BRANCO UMA FOLHA DE ABRIR - ...       25.40     20409.66\n",
       "\n",
       "[74 rows x 3 columns]"
      ]
     },
     "execution_count": 48,
     "metadata": {},
     "output_type": "execute_result"
    }
   ],
   "source": [
    "orc_projeto4"
   ]
  },
  {
   "cell_type": "markdown",
   "id": "f7a52028-1d11-4fd9-80a1-d327f7a50664",
   "metadata": {},
   "source": [
    "Retomando o custo fixo"
   ]
  },
  {
   "cell_type": "code",
   "execution_count": 49,
   "id": "5305ccba-2fa0-4b1c-a02d-773d6233c1d4",
   "metadata": {},
   "outputs": [
    {
     "data": {
      "text/html": [
       "<div>\n",
       "<style scoped>\n",
       "    .dataframe tbody tr th:only-of-type {\n",
       "        vertical-align: middle;\n",
       "    }\n",
       "\n",
       "    .dataframe tbody tr th {\n",
       "        vertical-align: top;\n",
       "    }\n",
       "\n",
       "    .dataframe thead th {\n",
       "        text-align: right;\n",
       "    }\n",
       "</style>\n",
       "<table border=\"1\" class=\"dataframe\">\n",
       "  <thead>\n",
       "    <tr style=\"text-align: right;\">\n",
       "      <th></th>\n",
       "      <th>Descrição</th>\n",
       "      <th>Quantidade</th>\n",
       "      <th>Preço_Total</th>\n",
       "    </tr>\n",
       "  </thead>\n",
       "  <tbody>\n",
       "    <tr>\n",
       "      <th>0</th>\n",
       "      <td>INSTALACAO DE TAPUME</td>\n",
       "      <td>88.33</td>\n",
       "      <td>10102.30</td>\n",
       "    </tr>\n",
       "    <tr>\n",
       "      <th>1</th>\n",
       "      <td>TEXTURA PROJETADA COR CINZA CLARO</td>\n",
       "      <td>510.60</td>\n",
       "      <td>11489.95</td>\n",
       "    </tr>\n",
       "    <tr>\n",
       "      <th>2</th>\n",
       "      <td>SOLEIRAS DE BOX EM GRANITO DE TONALIDADE CLARA</td>\n",
       "      <td>5.48</td>\n",
       "      <td>362.69</td>\n",
       "    </tr>\n",
       "    <tr>\n",
       "      <th>3</th>\n",
       "      <td>FORRO DE GESSO  EXECUTADO EM OBRA COM TABICA E...</td>\n",
       "      <td>250.40</td>\n",
       "      <td>31728.02</td>\n",
       "    </tr>\n",
       "    <tr>\n",
       "      <th>4</th>\n",
       "      <td>LIGACOES ELETRICAS E HIDROSSANITARIAS EM CONDO...</td>\n",
       "      <td>1.00</td>\n",
       "      <td>3500.00</td>\n",
       "    </tr>\n",
       "    <tr>\n",
       "      <th>...</th>\n",
       "      <td>...</td>\n",
       "      <td>...</td>\n",
       "      <td>...</td>\n",
       "    </tr>\n",
       "    <tr>\n",
       "      <th>71</th>\n",
       "      <td>CONCRETAGEM DE FUNDACAO DE RADIER COM FIBRA DE...</td>\n",
       "      <td>161.55</td>\n",
       "      <td>34008.49</td>\n",
       "    </tr>\n",
       "    <tr>\n",
       "      <th>72</th>\n",
       "      <td>PORTA EM ALUMINIO BRANCO UMA FOLHA DE ABRIR - ...</td>\n",
       "      <td>1.00</td>\n",
       "      <td>540.00</td>\n",
       "    </tr>\n",
       "    <tr>\n",
       "      <th>73</th>\n",
       "      <td>PORTA EM ALUMINIO BRANCO UMA FOLHA DE ABRIR - ...</td>\n",
       "      <td>25.40</td>\n",
       "      <td>20409.66</td>\n",
       "    </tr>\n",
       "    <tr>\n",
       "      <th>74</th>\n",
       "      <td>FINALIZACAO DA OBRA</td>\n",
       "      <td>NaN</td>\n",
       "      <td>1.12</td>\n",
       "    </tr>\n",
       "    <tr>\n",
       "      <th>75</th>\n",
       "      <td>FORMALIZACAO DA ENTREGA</td>\n",
       "      <td>NaN</td>\n",
       "      <td>912.85</td>\n",
       "    </tr>\n",
       "  </tbody>\n",
       "</table>\n",
       "<p>76 rows × 3 columns</p>\n",
       "</div>"
      ],
      "text/plain": [
       "                                            Descrição  Quantidade  Preço_Total\n",
       "0                                INSTALACAO DE TAPUME       88.33     10102.30\n",
       "1                   TEXTURA PROJETADA COR CINZA CLARO      510.60     11489.95\n",
       "2      SOLEIRAS DE BOX EM GRANITO DE TONALIDADE CLARA        5.48       362.69\n",
       "3   FORRO DE GESSO  EXECUTADO EM OBRA COM TABICA E...      250.40     31728.02\n",
       "4   LIGACOES ELETRICAS E HIDROSSANITARIAS EM CONDO...        1.00      3500.00\n",
       "..                                                ...         ...          ...\n",
       "71  CONCRETAGEM DE FUNDACAO DE RADIER COM FIBRA DE...      161.55     34008.49\n",
       "72  PORTA EM ALUMINIO BRANCO UMA FOLHA DE ABRIR - ...        1.00       540.00\n",
       "73  PORTA EM ALUMINIO BRANCO UMA FOLHA DE ABRIR - ...       25.40     20409.66\n",
       "74                                FINALIZACAO DA OBRA         NaN         1.12\n",
       "75                            FORMALIZACAO DA ENTREGA         NaN       912.85\n",
       "\n",
       "[76 rows x 3 columns]"
      ]
     },
     "execution_count": 49,
     "metadata": {},
     "output_type": "execute_result"
    }
   ],
   "source": [
    "orc_projeto4 = pd.concat([orc_projeto4, cf[[\"Descrição\", \"Quantidade\", \"Preço_Total\"]]])\n",
    "orc_projeto4 = orc_projeto4.reset_index(drop=True)\n",
    "orc_projeto4"
   ]
  },
  {
   "cell_type": "markdown",
   "id": "b468da35-befc-47f8-b9b5-8adf8ae5e166",
   "metadata": {},
   "source": [
    "Gerando arquivo com o orçamento final:"
   ]
  },
  {
   "cell_type": "code",
   "execution_count": 50,
   "id": "18723905-b3ed-44a0-921d-4112eb403d18",
   "metadata": {},
   "outputs": [],
   "source": [
    "orc_projeto4.to_csv(\"./orcamento_projeto4.csv\")"
   ]
  },
  {
   "cell_type": "markdown",
   "id": "a2f0d420-b401-4812-a8f5-14ae41210025",
   "metadata": {},
   "source": [
    "# Conclusão"
   ]
  },
  {
   "cell_type": "markdown",
   "id": "574eb042-9bf3-4e9a-b147-c8edea581798",
   "metadata": {},
   "source": [
    "O presente projeto teve por objetivo produzir uma estimativa do custo para o Projeto 4, dessa forma, é possível afirmar que o objetivo foi atingido. No entanto, algus pontos ainda necessitam ser explorados. Um dos maiores desafios do presente projeto é o fato de terem sido apresentadas apenas três amostras, o que acaba tornando difícil o uso de modelos mais robustos ou que se baseiam em estimativa de funções de aproximação, e até mesmo se tornando impossível verificar validade de pressupostos de alguns modelos estatítsticos clássicos. Nesse sentido, a abordagem apresentada no texto visou explorar o algorítmo de árvore de regressão, uma vez que, de maneira simplificada, o algoritmo funciona como uma espécie de tomador de decisão que consegue tomar decisões olhando para todas as amostras ao mesmo tempo.\n",
    "\n",
    "Em relação a previsão da incerteza, não foi possível identificar formas de estimar a incerteza das previsões, uma vez que a construção de intervalos de confiança exigiria a verificação de características dos dados que não são possíveis de verificar com uma amostra tão pequena. Outra possibilidade seria a utilização de previsão conformal, mas acabaríamos incorrendo no mesmo problema. \n",
    "De maneira geral, pode-se afirmar que a estimativa do custo é razoável, uma vez que pela natureza do modelo proposto, todas as estimativas estão dentro do range histórico para cada um dos elementos do orçamento. \n",
    "\n",
    "Uma possibilidade que também poderia ter sido usada é a adoção de Redes Bayesianas, que é um modelo que visa estudar a estrutura de dependência entre as variáveis analisadas, sendo classificado como um modelo colaborativo e que por sua característica colaborativa permite trabalhar com amostras pequenas, no entanto, seria impossível seu uso no presente trabalho, uma vez que não há a presença de um especialista durante o desenvolvimento do projeto.  "
   ]
  },
  {
   "cell_type": "markdown",
   "id": "ea0787f2-757a-43f3-8881-0281da9211ee",
   "metadata": {},
   "source": [
    "# Artigos Citados"
   ]
  },
  {
   "cell_type": "markdown",
   "id": "cef9b837-8400-4a53-bf32-5b1b5d42c4a3",
   "metadata": {},
   "source": [
    "SHWARTZ-ZIV, R.; ARMON, A. Tabular data: Deep learning is not all you need. Information\n",
    "Fusion, Elsevier, v. 81, p. 84–90, 2022"
   ]
  }
 ],
 "metadata": {
  "kernelspec": {
   "display_name": "Python 3 (ipykernel)",
   "language": "python",
   "name": "python3"
  },
  "language_info": {
   "codemirror_mode": {
    "name": "ipython",
    "version": 3
   },
   "file_extension": ".py",
   "mimetype": "text/x-python",
   "name": "python",
   "nbconvert_exporter": "python",
   "pygments_lexer": "ipython3",
   "version": "3.8.10"
  }
 },
 "nbformat": 4,
 "nbformat_minor": 5
}
